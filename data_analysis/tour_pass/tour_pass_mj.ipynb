{
 "cells": [
  {
   "cell_type": "markdown",
   "id": "52f91aab-231d-4df9-8018-91cc0218179c",
   "metadata": {},
   "source": [
    "# data"
   ]
  },
  {
   "cell_type": "code",
   "execution_count": 1,
   "id": "ab539554-14fd-4fcc-b2e5-ecadfa108796",
   "metadata": {},
   "outputs": [],
   "source": [
    "import pandas as pd\n",
    "import pymongo\n",
    "import numpy as np\n",
    "\n",
    "client=pymongo.MongoClient(\"192.168.10.240\",27017)\n",
    "db= client['AI_LKJ']\n",
    "collection_tour_pass_visitor = db['data_tour_pass_visitor']\n",
    "data_tour_pass_visitor = collection_tour_pass_visitor.find()\n",
    "df_tour_pass = pd.DataFrame(data_tour_pass_visitor)"
   ]
  },
  {
   "cell_type": "code",
   "execution_count": 2,
   "id": "ba705a22-ed06-4b2b-88ed-6b44e3e1ac3e",
   "metadata": {},
   "outputs": [
    {
     "data": {
      "text/html": [
       "<div>\n",
       "<style scoped>\n",
       "    .dataframe tbody tr th:only-of-type {\n",
       "        vertical-align: middle;\n",
       "    }\n",
       "\n",
       "    .dataframe tbody tr th {\n",
       "        vertical-align: top;\n",
       "    }\n",
       "\n",
       "    .dataframe thead th {\n",
       "        text-align: right;\n",
       "    }\n",
       "</style>\n",
       "<table border=\"1\" class=\"dataframe\">\n",
       "  <thead>\n",
       "    <tr style=\"text-align: right;\">\n",
       "      <th></th>\n",
       "      <th>_id</th>\n",
       "      <th>date</th>\n",
       "      <th>visitor</th>\n",
       "      <th>region</th>\n",
       "    </tr>\n",
       "  </thead>\n",
       "  <tbody>\n",
       "    <tr>\n",
       "      <th>0</th>\n",
       "      <td>663dbde82581fd20a9efc69a</td>\n",
       "      <td>201903</td>\n",
       "      <td>61439672</td>\n",
       "      <td>경기</td>\n",
       "    </tr>\n",
       "    <tr>\n",
       "      <th>1</th>\n",
       "      <td>663dbde82581fd20a9efc69b</td>\n",
       "      <td>201904</td>\n",
       "      <td>45141490</td>\n",
       "      <td>경기</td>\n",
       "    </tr>\n",
       "    <tr>\n",
       "      <th>2</th>\n",
       "      <td>663dbde82581fd20a9efc69c</td>\n",
       "      <td>201905</td>\n",
       "      <td>53300448</td>\n",
       "      <td>경기</td>\n",
       "    </tr>\n",
       "    <tr>\n",
       "      <th>3</th>\n",
       "      <td>663dbde82581fd20a9efc69d</td>\n",
       "      <td>201906</td>\n",
       "      <td>54278542</td>\n",
       "      <td>경기</td>\n",
       "    </tr>\n",
       "    <tr>\n",
       "      <th>4</th>\n",
       "      <td>663dbde82581fd20a9efc69e</td>\n",
       "      <td>201907</td>\n",
       "      <td>60857158</td>\n",
       "      <td>경기</td>\n",
       "    </tr>\n",
       "  </tbody>\n",
       "</table>\n",
       "</div>"
      ],
      "text/plain": [
       "                        _id    date   visitor region\n",
       "0  663dbde82581fd20a9efc69a  201903  61439672     경기\n",
       "1  663dbde82581fd20a9efc69b  201904  45141490     경기\n",
       "2  663dbde82581fd20a9efc69c  201905  53300448     경기\n",
       "3  663dbde82581fd20a9efc69d  201906  54278542     경기\n",
       "4  663dbde82581fd20a9efc69e  201907  60857158     경기"
      ]
     },
     "execution_count": 2,
     "metadata": {},
     "output_type": "execute_result"
    }
   ],
   "source": [
    "df_tour_pass.head()"
   ]
  },
  {
   "cell_type": "code",
   "execution_count": 3,
   "id": "6f9ea31b-fd2a-4b0f-8195-3adc93ead170",
   "metadata": {},
   "outputs": [
    {
     "data": {
      "text/plain": [
       "array(['경기', '강원', '부산', '제주'], dtype=object)"
      ]
     },
     "execution_count": 3,
     "metadata": {},
     "output_type": "execute_result"
    }
   ],
   "source": [
    "df_tour_pass['region'].unique()"
   ]
  },
  {
   "cell_type": "code",
   "execution_count": 11,
   "id": "5a62f4d9-d69b-4564-b619-6cd262e359e9",
   "metadata": {
    "scrolled": true
   },
   "outputs": [
    {
     "data": {
      "text/plain": [
       "Index(['_id', 'date', 'visitor', 'region'], dtype='object')"
      ]
     },
     "execution_count": 11,
     "metadata": {},
     "output_type": "execute_result"
    }
   ],
   "source": [
    "df_tour_pass.columns"
   ]
  },
  {
   "cell_type": "code",
   "execution_count": 8,
   "id": "dd67de70-ca00-49a6-95c9-249df5bf2bab",
   "metadata": {},
   "outputs": [
    {
     "data": {
      "text/html": [
       "<div>\n",
       "<style scoped>\n",
       "    .dataframe tbody tr th:only-of-type {\n",
       "        vertical-align: middle;\n",
       "    }\n",
       "\n",
       "    .dataframe tbody tr th {\n",
       "        vertical-align: top;\n",
       "    }\n",
       "\n",
       "    .dataframe thead th {\n",
       "        text-align: right;\n",
       "    }\n",
       "</style>\n",
       "<table border=\"1\" class=\"dataframe\">\n",
       "  <thead>\n",
       "    <tr style=\"text-align: right;\">\n",
       "      <th>date</th>\n",
       "      <th>201903</th>\n",
       "      <th>201904</th>\n",
       "      <th>201905</th>\n",
       "      <th>201906</th>\n",
       "      <th>201907</th>\n",
       "      <th>201908</th>\n",
       "      <th>201909</th>\n",
       "      <th>201910</th>\n",
       "      <th>201911</th>\n",
       "      <th>201912</th>\n",
       "      <th>...</th>\n",
       "      <th>202305</th>\n",
       "      <th>202306</th>\n",
       "      <th>202307</th>\n",
       "      <th>202308</th>\n",
       "      <th>202309</th>\n",
       "      <th>202310</th>\n",
       "      <th>202311</th>\n",
       "      <th>202312</th>\n",
       "      <th>202401</th>\n",
       "      <th>202402</th>\n",
       "    </tr>\n",
       "    <tr>\n",
       "      <th>region</th>\n",
       "      <th></th>\n",
       "      <th></th>\n",
       "      <th></th>\n",
       "      <th></th>\n",
       "      <th></th>\n",
       "      <th></th>\n",
       "      <th></th>\n",
       "      <th></th>\n",
       "      <th></th>\n",
       "      <th></th>\n",
       "      <th></th>\n",
       "      <th></th>\n",
       "      <th></th>\n",
       "      <th></th>\n",
       "      <th></th>\n",
       "      <th></th>\n",
       "      <th></th>\n",
       "      <th></th>\n",
       "      <th></th>\n",
       "      <th></th>\n",
       "      <th></th>\n",
       "    </tr>\n",
       "  </thead>\n",
       "  <tbody>\n",
       "    <tr>\n",
       "      <th>강원</th>\n",
       "      <td>11300000</td>\n",
       "      <td>9029670</td>\n",
       "      <td>10400000</td>\n",
       "      <td>11500000</td>\n",
       "      <td>14100000</td>\n",
       "      <td>20100000</td>\n",
       "      <td>12500000</td>\n",
       "      <td>12100000</td>\n",
       "      <td>11400000</td>\n",
       "      <td>11400000</td>\n",
       "      <td>...</td>\n",
       "      <td>12500000</td>\n",
       "      <td>12300000</td>\n",
       "      <td>14700000</td>\n",
       "      <td>17100000</td>\n",
       "      <td>13500000</td>\n",
       "      <td>13900000</td>\n",
       "      <td>9878631</td>\n",
       "      <td>11300000</td>\n",
       "      <td>11100000</td>\n",
       "      <td>11700000</td>\n",
       "    </tr>\n",
       "    <tr>\n",
       "      <th>경기</th>\n",
       "      <td>61439672</td>\n",
       "      <td>45141490</td>\n",
       "      <td>53300448</td>\n",
       "      <td>54278542</td>\n",
       "      <td>60857158</td>\n",
       "      <td>69152260</td>\n",
       "      <td>61290392</td>\n",
       "      <td>58901661</td>\n",
       "      <td>59371860</td>\n",
       "      <td>50321786</td>\n",
       "      <td>...</td>\n",
       "      <td>53744633</td>\n",
       "      <td>51087987</td>\n",
       "      <td>55559456</td>\n",
       "      <td>54271026</td>\n",
       "      <td>56951293</td>\n",
       "      <td>56047739</td>\n",
       "      <td>49731562</td>\n",
       "      <td>51640052</td>\n",
       "      <td>50036682</td>\n",
       "      <td>51481075</td>\n",
       "    </tr>\n",
       "    <tr>\n",
       "      <th>부산</th>\n",
       "      <td>14482347</td>\n",
       "      <td>10768786</td>\n",
       "      <td>13441241</td>\n",
       "      <td>11490169</td>\n",
       "      <td>13642520</td>\n",
       "      <td>13941244</td>\n",
       "      <td>13812881</td>\n",
       "      <td>12208701</td>\n",
       "      <td>12252252</td>\n",
       "      <td>13689532</td>\n",
       "      <td>...</td>\n",
       "      <td>12500000</td>\n",
       "      <td>11700000</td>\n",
       "      <td>12800000</td>\n",
       "      <td>13300000</td>\n",
       "      <td>13700000</td>\n",
       "      <td>12600000</td>\n",
       "      <td>11600000</td>\n",
       "      <td>12900000</td>\n",
       "      <td>12400000</td>\n",
       "      <td>13300000</td>\n",
       "    </tr>\n",
       "    <tr>\n",
       "      <th>제주</th>\n",
       "      <td>4812685</td>\n",
       "      <td>4526887</td>\n",
       "      <td>4690564</td>\n",
       "      <td>4559755</td>\n",
       "      <td>5210256</td>\n",
       "      <td>5930807</td>\n",
       "      <td>4701184</td>\n",
       "      <td>5328934</td>\n",
       "      <td>4856982</td>\n",
       "      <td>4998793</td>\n",
       "      <td>...</td>\n",
       "      <td>5208883</td>\n",
       "      <td>5059521</td>\n",
       "      <td>5336175</td>\n",
       "      <td>5982112</td>\n",
       "      <td>4788081</td>\n",
       "      <td>5614039</td>\n",
       "      <td>4672499</td>\n",
       "      <td>4638646</td>\n",
       "      <td>5195183</td>\n",
       "      <td>4688578</td>\n",
       "    </tr>\n",
       "  </tbody>\n",
       "</table>\n",
       "<p>4 rows × 60 columns</p>\n",
       "</div>"
      ],
      "text/plain": [
       "date      201903    201904    201905    201906    201907    201908    201909  \\\n",
       "region                                                                         \n",
       "강원      11300000   9029670  10400000  11500000  14100000  20100000  12500000   \n",
       "경기      61439672  45141490  53300448  54278542  60857158  69152260  61290392   \n",
       "부산      14482347  10768786  13441241  11490169  13642520  13941244  13812881   \n",
       "제주       4812685   4526887   4690564   4559755   5210256   5930807   4701184   \n",
       "\n",
       "date      201910    201911    201912  ...    202305    202306    202307  \\\n",
       "region                                ...                                 \n",
       "강원      12100000  11400000  11400000  ...  12500000  12300000  14700000   \n",
       "경기      58901661  59371860  50321786  ...  53744633  51087987  55559456   \n",
       "부산      12208701  12252252  13689532  ...  12500000  11700000  12800000   \n",
       "제주       5328934   4856982   4998793  ...   5208883   5059521   5336175   \n",
       "\n",
       "date      202308    202309    202310    202311    202312    202401    202402  \n",
       "region                                                                        \n",
       "강원      17100000  13500000  13900000   9878631  11300000  11100000  11700000  \n",
       "경기      54271026  56951293  56047739  49731562  51640052  50036682  51481075  \n",
       "부산      13300000  13700000  12600000  11600000  12900000  12400000  13300000  \n",
       "제주       5982112   4788081   5614039   4672499   4638646   5195183   4688578  \n",
       "\n",
       "[4 rows x 60 columns]"
      ]
     },
     "execution_count": 8,
     "metadata": {},
     "output_type": "execute_result"
    }
   ],
   "source": [
    "pivot_visitor = pd.pivot_table(data=df_tour_pass,index=\"region\",columns = 'date',values='visitor', aggfunc='sum')\n",
    "pivot_visitor"
   ]
  },
  {
   "cell_type": "markdown",
   "id": "f2728421-b35a-4844-94ef-f1c64731c354",
   "metadata": {},
   "source": [
    "# 투어패스가 등장한 시점\n",
    "- 강릉 : 2023년 7월\n",
    "- 경기 : 2023년 7월\n",
    "- 부산 : 2022년 2월\n",
    "- 제주 : 2021년 3월 "
   ]
  },
  {
   "cell_type": "markdown",
   "id": "af1239f8-c8b7-4a9b-b715-20a449576f52",
   "metadata": {},
   "source": [
    "## 강릉 52개월 전 / 7개월 후\n",
    "- (2019.03 ~ 2023.06 까지 방문자 수 합한다음 나누기 52) (2023.07 ~ 2024.02 까지 방문자 수 합한다음 나누기 7)을 비교"
   ]
  },
  {
   "cell_type": "code",
   "execution_count": 12,
   "id": "be054c77-e250-41cc-a9e9-67267d4c68b3",
   "metadata": {},
   "outputs": [
    {
     "ename": "KeyError",
     "evalue": "'01'",
     "output_type": "error",
     "traceback": [
      "\u001b[0;31m---------------------------------------------------------------------------\u001b[0m",
      "\u001b[0;31mKeyError\u001b[0m                                  Traceback (most recent call last)",
      "Cell \u001b[0;32mIn[12], line 1\u001b[0m\n\u001b[0;32m----> 1\u001b[0m pivot_tour_pass_month\u001b[38;5;241m=\u001b[39m\u001b[43mpd\u001b[49m\u001b[38;5;241;43m.\u001b[39;49m\u001b[43mpivot_table\u001b[49m\u001b[43m(\u001b[49m\u001b[43mdata\u001b[49m\u001b[38;5;241;43m=\u001b[39;49m\u001b[43mpivot_visitor\u001b[49m\u001b[43m,\u001b[49m\u001b[43m \u001b[49m\u001b[43mindex\u001b[49m\u001b[38;5;241;43m=\u001b[39;49m\u001b[38;5;124;43m'\u001b[39;49m\u001b[38;5;124;43mregion\u001b[39;49m\u001b[38;5;124;43m'\u001b[39;49m\u001b[43m,\u001b[49m\u001b[43m \u001b[49m\u001b[43mvalues\u001b[49m\u001b[38;5;241;43m=\u001b[39;49m\u001b[43m[\u001b[49m\u001b[38;5;124;43m'\u001b[39;49m\u001b[38;5;124;43m01\u001b[39;49m\u001b[38;5;124;43m'\u001b[39;49m\u001b[43m,\u001b[49m\u001b[43m \u001b[49m\u001b[38;5;124;43m'\u001b[39;49m\u001b[38;5;124;43m02\u001b[39;49m\u001b[38;5;124;43m'\u001b[39;49m\u001b[43m,\u001b[49m\u001b[43m \u001b[49m\u001b[38;5;124;43m'\u001b[39;49m\u001b[38;5;124;43m03\u001b[39;49m\u001b[38;5;124;43m'\u001b[39;49m\u001b[43m,\u001b[49m\u001b[43m \u001b[49m\u001b[38;5;124;43m'\u001b[39;49m\u001b[38;5;124;43m04\u001b[39;49m\u001b[38;5;124;43m'\u001b[39;49m\u001b[43m,\u001b[49m\u001b[43m \u001b[49m\u001b[38;5;124;43m'\u001b[39;49m\u001b[38;5;124;43m05\u001b[39;49m\u001b[38;5;124;43m'\u001b[39;49m\u001b[43m,\u001b[49m\u001b[43m \u001b[49m\u001b[38;5;124;43m'\u001b[39;49m\u001b[38;5;124;43m06\u001b[39;49m\u001b[38;5;124;43m'\u001b[39;49m\u001b[43m,\u001b[49m\u001b[43m \u001b[49m\u001b[38;5;124;43m'\u001b[39;49m\u001b[38;5;124;43m07\u001b[39;49m\u001b[38;5;124;43m'\u001b[39;49m\u001b[43m,\u001b[49m\u001b[43m \u001b[49m\u001b[38;5;124;43m'\u001b[39;49m\u001b[38;5;124;43m08\u001b[39;49m\u001b[38;5;124;43m'\u001b[39;49m\u001b[43m,\u001b[49m\u001b[43m \u001b[49m\u001b[38;5;124;43m'\u001b[39;49m\u001b[38;5;124;43m09\u001b[39;49m\u001b[38;5;124;43m'\u001b[39;49m\u001b[43m,\u001b[49m\u001b[43m \u001b[49m\u001b[38;5;124;43m'\u001b[39;49m\u001b[38;5;124;43m10\u001b[39;49m\u001b[38;5;124;43m'\u001b[39;49m\u001b[43m,\u001b[49m\u001b[43m \u001b[49m\u001b[38;5;124;43m'\u001b[39;49m\u001b[38;5;124;43m11\u001b[39;49m\u001b[38;5;124;43m'\u001b[39;49m\u001b[43m,\u001b[49m\u001b[43m \u001b[49m\u001b[38;5;124;43m'\u001b[39;49m\u001b[38;5;124;43m12\u001b[39;49m\u001b[38;5;124;43m'\u001b[39;49m\u001b[43m]\u001b[49m\u001b[43m,\u001b[49m\u001b[43maggfunc\u001b[49m\u001b[38;5;241;43m=\u001b[39;49m\u001b[38;5;124;43m'\u001b[39;49m\u001b[38;5;124;43msum\u001b[39;49m\u001b[38;5;124;43m'\u001b[39;49m\u001b[43m)\u001b[49m\n\u001b[1;32m      2\u001b[0m \u001b[38;5;66;03m# 지역별 방문자수를 월 기준으로 나눠서 표시\u001b[39;00m\n\u001b[1;32m      3\u001b[0m pivot_visitor \u001b[38;5;241m=\u001b[39m pd\u001b[38;5;241m.\u001b[39mpivot_table(data\u001b[38;5;241m=\u001b[39mdf_visitor,index\u001b[38;5;241m=\u001b[39m\u001b[38;5;124m\"\u001b[39m\u001b[38;5;124mregion\u001b[39m\u001b[38;5;124m\"\u001b[39m,columns \u001b[38;5;241m=\u001b[39m \u001b[38;5;124m'\u001b[39m\u001b[38;5;124mdate\u001b[39m\u001b[38;5;124m'\u001b[39m,values\u001b[38;5;241m=\u001b[39m\u001b[38;5;124m'\u001b[39m\u001b[38;5;124mvisitor\u001b[39m\u001b[38;5;124m'\u001b[39m, aggfunc\u001b[38;5;241m=\u001b[39m\u001b[38;5;124m'\u001b[39m\u001b[38;5;124msum\u001b[39m\u001b[38;5;124m'\u001b[39m)\n",
      "File \u001b[0;32m/usr/local/lib/python3.11/site-packages/pandas/core/reshape/pivot.py:102\u001b[0m, in \u001b[0;36mpivot_table\u001b[0;34m(data, values, index, columns, aggfunc, fill_value, margins, dropna, margins_name, observed, sort)\u001b[0m\n\u001b[1;32m     99\u001b[0m     table \u001b[38;5;241m=\u001b[39m concat(pieces, keys\u001b[38;5;241m=\u001b[39mkeys, axis\u001b[38;5;241m=\u001b[39m\u001b[38;5;241m1\u001b[39m)\n\u001b[1;32m    100\u001b[0m     \u001b[38;5;28;01mreturn\u001b[39;00m table\u001b[38;5;241m.\u001b[39m__finalize__(data, method\u001b[38;5;241m=\u001b[39m\u001b[38;5;124m\"\u001b[39m\u001b[38;5;124mpivot_table\u001b[39m\u001b[38;5;124m\"\u001b[39m)\n\u001b[0;32m--> 102\u001b[0m table \u001b[38;5;241m=\u001b[39m \u001b[43m__internal_pivot_table\u001b[49m\u001b[43m(\u001b[49m\n\u001b[1;32m    103\u001b[0m \u001b[43m    \u001b[49m\u001b[43mdata\u001b[49m\u001b[43m,\u001b[49m\n\u001b[1;32m    104\u001b[0m \u001b[43m    \u001b[49m\u001b[43mvalues\u001b[49m\u001b[43m,\u001b[49m\n\u001b[1;32m    105\u001b[0m \u001b[43m    \u001b[49m\u001b[43mindex\u001b[49m\u001b[43m,\u001b[49m\n\u001b[1;32m    106\u001b[0m \u001b[43m    \u001b[49m\u001b[43mcolumns\u001b[49m\u001b[43m,\u001b[49m\n\u001b[1;32m    107\u001b[0m \u001b[43m    \u001b[49m\u001b[43maggfunc\u001b[49m\u001b[43m,\u001b[49m\n\u001b[1;32m    108\u001b[0m \u001b[43m    \u001b[49m\u001b[43mfill_value\u001b[49m\u001b[43m,\u001b[49m\n\u001b[1;32m    109\u001b[0m \u001b[43m    \u001b[49m\u001b[43mmargins\u001b[49m\u001b[43m,\u001b[49m\n\u001b[1;32m    110\u001b[0m \u001b[43m    \u001b[49m\u001b[43mdropna\u001b[49m\u001b[43m,\u001b[49m\n\u001b[1;32m    111\u001b[0m \u001b[43m    \u001b[49m\u001b[43mmargins_name\u001b[49m\u001b[43m,\u001b[49m\n\u001b[1;32m    112\u001b[0m \u001b[43m    \u001b[49m\u001b[43mobserved\u001b[49m\u001b[43m,\u001b[49m\n\u001b[1;32m    113\u001b[0m \u001b[43m    \u001b[49m\u001b[43msort\u001b[49m\u001b[43m,\u001b[49m\n\u001b[1;32m    114\u001b[0m \u001b[43m\u001b[49m\u001b[43m)\u001b[49m\n\u001b[1;32m    115\u001b[0m \u001b[38;5;28;01mreturn\u001b[39;00m table\u001b[38;5;241m.\u001b[39m__finalize__(data, method\u001b[38;5;241m=\u001b[39m\u001b[38;5;124m\"\u001b[39m\u001b[38;5;124mpivot_table\u001b[39m\u001b[38;5;124m\"\u001b[39m)\n",
      "File \u001b[0;32m/usr/local/lib/python3.11/site-packages/pandas/core/reshape/pivot.py:148\u001b[0m, in \u001b[0;36m__internal_pivot_table\u001b[0;34m(data, values, index, columns, aggfunc, fill_value, margins, dropna, margins_name, observed, sort)\u001b[0m\n\u001b[1;32m    146\u001b[0m \u001b[38;5;28;01mfor\u001b[39;00m i \u001b[38;5;129;01min\u001b[39;00m values:\n\u001b[1;32m    147\u001b[0m     \u001b[38;5;28;01mif\u001b[39;00m i \u001b[38;5;129;01mnot\u001b[39;00m \u001b[38;5;129;01min\u001b[39;00m data:\n\u001b[0;32m--> 148\u001b[0m         \u001b[38;5;28;01mraise\u001b[39;00m \u001b[38;5;167;01mKeyError\u001b[39;00m(i)\n\u001b[1;32m    150\u001b[0m to_filter \u001b[38;5;241m=\u001b[39m []\n\u001b[1;32m    151\u001b[0m \u001b[38;5;28;01mfor\u001b[39;00m x \u001b[38;5;129;01min\u001b[39;00m keys \u001b[38;5;241m+\u001b[39m values:\n",
      "\u001b[0;31mKeyError\u001b[0m: '01'"
     ]
    }
   ],
   "source": [
    "pivot_tour_pass_month=pd.pivot_table(data=pivot_visitor, index='region', values=['01', '02', '03', '04', '05', '06', '07', '08', '09', '10', '11', '12'],aggfunc='sum')\n",
    "# 지역별 방문자수를 월 기준으로 나눠서 표시\n",
    "pivot_visitor = pd.pivot_table(data=df_visitor,index=\"region\",columns = 'date',values='visitor', aggfunc='sum')\n",
    "pivot_visitor"
   ]
  },
  {
   "cell_type": "markdown",
   "id": "694a019f-8246-4c9a-aa5f-b7e5209c72c8",
   "metadata": {},
   "source": [
    "## 경기 52개월 전 / 7개월 후"
   ]
  },
  {
   "cell_type": "markdown",
   "id": "b529a510-7c7c-4393-b6b3-c8db63dfbd6b",
   "metadata": {},
   "source": [
    "## 부산 35개월 전 / 24개월 후"
   ]
  },
  {
   "cell_type": "markdown",
   "id": "53e64fd7-8a31-416e-b15e-bfd2dedd7a6a",
   "metadata": {},
   "source": [
    "## 제주 24개월 전 / 35개월 후"
   ]
  },
  {
   "cell_type": "code",
   "execution_count": null,
   "id": "898bc48a-7550-4568-bd36-24b8093caf3c",
   "metadata": {},
   "outputs": [],
   "source": []
  }
 ],
 "metadata": {
  "kernelspec": {
   "display_name": "Python 3 (ipykernel)",
   "language": "python",
   "name": "python3"
  },
  "language_info": {
   "codemirror_mode": {
    "name": "ipython",
    "version": 3
   },
   "file_extension": ".py",
   "mimetype": "text/x-python",
   "name": "python",
   "nbconvert_exporter": "python",
   "pygments_lexer": "ipython3",
   "version": "3.11.9"
  }
 },
 "nbformat": 4,
 "nbformat_minor": 5
}
