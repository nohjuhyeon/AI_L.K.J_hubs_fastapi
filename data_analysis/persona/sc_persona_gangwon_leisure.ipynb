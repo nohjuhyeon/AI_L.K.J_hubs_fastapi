{
 "cells": [
  {
   "cell_type": "code",
   "execution_count": 1,
   "id": "4fb95024-a571-4092-ab6b-2ebf04c8e76d",
   "metadata": {},
   "outputs": [],
   "source": [
    "import pandas as pd\n",
    "import pymongo\n",
    "import seaborn as sns\n",
    "import numpy as np\n",
    "import matplotlib.pyplot as plt\n",
    "import matplotlib as mpl\n",
    "mpl.rc('font', family='NanumBarunGothic') # 혹은 다른 설치한 Nanum 폰트 사용\n",
    "import scipy\n",
    "import scipy.stats as stats"
   ]
  },
  {
   "cell_type": "markdown",
   "id": "8cd0a748-091b-4995-8684-0e853ff5c974",
   "metadata": {
    "jp-MarkdownHeadingCollapsed": true
   },
   "source": [
    "## 데이터 가져오기\n",
    "- dataset : 강원도 여행지 / 2019,2020,2021,2022 년의 겨울 데이터(12,1,2월)"
   ]
  },
  {
   "cell_type": "code",
   "execution_count": 2,
   "id": "1d582806-544c-4dd5-a898-cc4b5f8cc2d5",
   "metadata": {},
   "outputs": [
    {
     "data": {
      "text/html": [
       "<div>\n",
       "<style scoped>\n",
       "    .dataframe tbody tr th:only-of-type {\n",
       "        vertical-align: middle;\n",
       "    }\n",
       "\n",
       "    .dataframe tbody tr th {\n",
       "        vertical-align: top;\n",
       "    }\n",
       "\n",
       "    .dataframe thead th {\n",
       "        text-align: right;\n",
       "    }\n",
       "</style>\n",
       "<table border=\"1\" class=\"dataframe\">\n",
       "  <thead>\n",
       "    <tr style=\"text-align: right;\">\n",
       "      <th></th>\n",
       "      <th>순위</th>\n",
       "      <th>분류</th>\n",
       "      <th>관련 키워드</th>\n",
       "      <th>언급건수</th>\n",
       "    </tr>\n",
       "  </thead>\n",
       "  <tbody>\n",
       "    <tr>\n",
       "      <th>0</th>\n",
       "      <td>1</td>\n",
       "      <td>휴식/힐링</td>\n",
       "      <td>힐링</td>\n",
       "      <td>27888</td>\n",
       "    </tr>\n",
       "    <tr>\n",
       "      <th>1</th>\n",
       "      <td>2</td>\n",
       "      <td>레포츠</td>\n",
       "      <td>스키</td>\n",
       "      <td>23244</td>\n",
       "    </tr>\n",
       "    <tr>\n",
       "      <th>2</th>\n",
       "      <td>3</td>\n",
       "      <td>레포츠</td>\n",
       "      <td>등산</td>\n",
       "      <td>11998</td>\n",
       "    </tr>\n",
       "    <tr>\n",
       "      <th>3</th>\n",
       "      <td>4</td>\n",
       "      <td>레포츠</td>\n",
       "      <td>낚시</td>\n",
       "      <td>10538</td>\n",
       "    </tr>\n",
       "    <tr>\n",
       "      <th>4</th>\n",
       "      <td>5</td>\n",
       "      <td>레포츠</td>\n",
       "      <td>캠핑</td>\n",
       "      <td>8225</td>\n",
       "    </tr>\n",
       "    <tr>\n",
       "      <th>...</th>\n",
       "      <td>...</td>\n",
       "      <td>...</td>\n",
       "      <td>...</td>\n",
       "      <td>...</td>\n",
       "    </tr>\n",
       "    <tr>\n",
       "      <th>369</th>\n",
       "      <td>348</td>\n",
       "      <td>휴식/힐링</td>\n",
       "      <td>카캉스</td>\n",
       "      <td>1</td>\n",
       "    </tr>\n",
       "    <tr>\n",
       "      <th>370</th>\n",
       "      <td>348</td>\n",
       "      <td>체험</td>\n",
       "      <td>향수체험</td>\n",
       "      <td>1</td>\n",
       "    </tr>\n",
       "    <tr>\n",
       "      <th>371</th>\n",
       "      <td>348</td>\n",
       "      <td>체험</td>\n",
       "      <td>교복체험</td>\n",
       "      <td>1</td>\n",
       "    </tr>\n",
       "    <tr>\n",
       "      <th>372</th>\n",
       "      <td>348</td>\n",
       "      <td>체험</td>\n",
       "      <td>학생승마체험</td>\n",
       "      <td>1</td>\n",
       "    </tr>\n",
       "    <tr>\n",
       "      <th>373</th>\n",
       "      <td>348</td>\n",
       "      <td>체험</td>\n",
       "      <td>해병대캠프</td>\n",
       "      <td>1</td>\n",
       "    </tr>\n",
       "  </tbody>\n",
       "</table>\n",
       "<p>1456 rows × 4 columns</p>\n",
       "</div>"
      ],
      "text/plain": [
       "      순위     분류  관련 키워드   언급건수\n",
       "0      1  휴식/힐링      힐링  27888\n",
       "1      2    레포츠      스키  23244\n",
       "2      3    레포츠      등산  11998\n",
       "3      4    레포츠      낚시  10538\n",
       "4      5    레포츠      캠핑   8225\n",
       "..   ...    ...     ...    ...\n",
       "369  348  휴식/힐링     카캉스      1\n",
       "370  348     체험    향수체험      1\n",
       "371  348     체험    교복체험      1\n",
       "372  348     체험  학생승마체험      1\n",
       "373  348     체험   해병대캠프      1\n",
       "\n",
       "[1456 rows x 4 columns]"
      ]
     },
     "execution_count": 2,
     "metadata": {},
     "output_type": "execute_result"
    }
   ],
   "source": [
    "# 강원도 연도별 겨울(12,1,2월) 데이터 csv를 가져옴\n",
    "df_1 = pd.read_csv(\"2019_2020.csv\", encoding='cp949')\n",
    "df_2 = pd.read_csv(\"2020_2021.csv\", encoding='cp949')\n",
    "df_3 = pd.read_csv(\"2021_2022.csv\", encoding='cp949')\n",
    "df_4 = pd.read_csv(\"2022_2023.csv\", encoding='cp949')\n",
    "\n",
    "df_winter = pd.concat([df_1, df_2, df_3, df_4])\n",
    "df_winter"
   ]
  },
  {
   "cell_type": "markdown",
   "id": "52a49840-1285-4e92-8c95-49f3933a7a65",
   "metadata": {
    "jp-MarkdownHeadingCollapsed": true
   },
   "source": [
    "## 데이터 분석\n",
    "- 레포츠에서 어떤 키워드에 대한 언급량 수가 많은지 판단\n"
   ]
  },
  {
   "cell_type": "code",
   "execution_count": 3,
   "id": "8b53a878-d728-4bef-9066-061f538f0b8b",
   "metadata": {},
   "outputs": [
    {
     "data": {
      "text/html": [
       "<div>\n",
       "<style scoped>\n",
       "    .dataframe tbody tr th:only-of-type {\n",
       "        vertical-align: middle;\n",
       "    }\n",
       "\n",
       "    .dataframe tbody tr th {\n",
       "        vertical-align: top;\n",
       "    }\n",
       "\n",
       "    .dataframe thead th {\n",
       "        text-align: right;\n",
       "    }\n",
       "</style>\n",
       "<table border=\"1\" class=\"dataframe\">\n",
       "  <thead>\n",
       "    <tr style=\"text-align: right;\">\n",
       "      <th></th>\n",
       "      <th>순위</th>\n",
       "      <th>분류</th>\n",
       "      <th>관련 키워드</th>\n",
       "      <th>언급건수</th>\n",
       "    </tr>\n",
       "  </thead>\n",
       "  <tbody>\n",
       "    <tr>\n",
       "      <th>1</th>\n",
       "      <td>2</td>\n",
       "      <td>레포츠</td>\n",
       "      <td>스키</td>\n",
       "      <td>23244</td>\n",
       "    </tr>\n",
       "    <tr>\n",
       "      <th>2</th>\n",
       "      <td>3</td>\n",
       "      <td>레포츠</td>\n",
       "      <td>등산</td>\n",
       "      <td>11998</td>\n",
       "    </tr>\n",
       "    <tr>\n",
       "      <th>3</th>\n",
       "      <td>4</td>\n",
       "      <td>레포츠</td>\n",
       "      <td>낚시</td>\n",
       "      <td>10538</td>\n",
       "    </tr>\n",
       "    <tr>\n",
       "      <th>4</th>\n",
       "      <td>5</td>\n",
       "      <td>레포츠</td>\n",
       "      <td>캠핑</td>\n",
       "      <td>8225</td>\n",
       "    </tr>\n",
       "    <tr>\n",
       "      <th>5</th>\n",
       "      <td>6</td>\n",
       "      <td>레포츠</td>\n",
       "      <td>산행</td>\n",
       "      <td>7796</td>\n",
       "    </tr>\n",
       "    <tr>\n",
       "      <th>...</th>\n",
       "      <td>...</td>\n",
       "      <td>...</td>\n",
       "      <td>...</td>\n",
       "      <td>...</td>\n",
       "    </tr>\n",
       "    <tr>\n",
       "      <th>355</th>\n",
       "      <td>348</td>\n",
       "      <td>레포츠</td>\n",
       "      <td>암벽산행</td>\n",
       "      <td>1</td>\n",
       "    </tr>\n",
       "    <tr>\n",
       "      <th>356</th>\n",
       "      <td>348</td>\n",
       "      <td>레포츠</td>\n",
       "      <td>블롭점프</td>\n",
       "      <td>1</td>\n",
       "    </tr>\n",
       "    <tr>\n",
       "      <th>357</th>\n",
       "      <td>348</td>\n",
       "      <td>레포츠</td>\n",
       "      <td>스킨스쿠버다이빙</td>\n",
       "      <td>1</td>\n",
       "    </tr>\n",
       "    <tr>\n",
       "      <th>362</th>\n",
       "      <td>348</td>\n",
       "      <td>레포츠</td>\n",
       "      <td>cmas</td>\n",
       "      <td>1</td>\n",
       "    </tr>\n",
       "    <tr>\n",
       "      <th>367</th>\n",
       "      <td>348</td>\n",
       "      <td>레포츠</td>\n",
       "      <td>줄없는번지</td>\n",
       "      <td>1</td>\n",
       "    </tr>\n",
       "  </tbody>\n",
       "</table>\n",
       "<p>449 rows × 4 columns</p>\n",
       "</div>"
      ],
      "text/plain": [
       "      순위   분류    관련 키워드   언급건수\n",
       "1      2  레포츠        스키  23244\n",
       "2      3  레포츠        등산  11998\n",
       "3      4  레포츠        낚시  10538\n",
       "4      5  레포츠        캠핑   8225\n",
       "5      6  레포츠        산행   7796\n",
       "..   ...  ...       ...    ...\n",
       "355  348  레포츠      암벽산행      1\n",
       "356  348  레포츠      블롭점프      1\n",
       "357  348  레포츠  스킨스쿠버다이빙      1\n",
       "362  348  레포츠      cmas      1\n",
       "367  348  레포츠     줄없는번지      1\n",
       "\n",
       "[449 rows x 4 columns]"
      ]
     },
     "execution_count": 3,
     "metadata": {},
     "output_type": "execute_result"
    }
   ],
   "source": [
    "df_winter.query(\"분류 == '레포츠'\")"
   ]
  },
  {
   "cell_type": "code",
   "execution_count": 4,
   "id": "2b36def6-f201-4f00-bf7f-3e07e2c38094",
   "metadata": {},
   "outputs": [
    {
     "data": {
      "text/html": [
       "<div>\n",
       "<style scoped>\n",
       "    .dataframe tbody tr th:only-of-type {\n",
       "        vertical-align: middle;\n",
       "    }\n",
       "\n",
       "    .dataframe tbody tr th {\n",
       "        vertical-align: top;\n",
       "    }\n",
       "\n",
       "    .dataframe thead th {\n",
       "        text-align: right;\n",
       "    }\n",
       "</style>\n",
       "<table border=\"1\" class=\"dataframe\">\n",
       "  <thead>\n",
       "    <tr style=\"text-align: right;\">\n",
       "      <th></th>\n",
       "      <th>언급건수</th>\n",
       "    </tr>\n",
       "    <tr>\n",
       "      <th>관련 키워드</th>\n",
       "      <th></th>\n",
       "    </tr>\n",
       "  </thead>\n",
       "  <tbody>\n",
       "    <tr>\n",
       "      <th>스키</th>\n",
       "      <td>81564</td>\n",
       "    </tr>\n",
       "    <tr>\n",
       "      <th>등산</th>\n",
       "      <td>55248</td>\n",
       "    </tr>\n",
       "    <tr>\n",
       "      <th>캠핑</th>\n",
       "      <td>50557</td>\n",
       "    </tr>\n",
       "    <tr>\n",
       "      <th>산행</th>\n",
       "      <td>33403</td>\n",
       "    </tr>\n",
       "    <tr>\n",
       "      <th>낚시</th>\n",
       "      <td>31594</td>\n",
       "    </tr>\n",
       "    <tr>\n",
       "      <th>서핑</th>\n",
       "      <td>21480</td>\n",
       "    </tr>\n",
       "    <tr>\n",
       "      <th>트레킹</th>\n",
       "      <td>13946</td>\n",
       "    </tr>\n",
       "    <tr>\n",
       "      <th>레저</th>\n",
       "      <td>13095</td>\n",
       "    </tr>\n",
       "    <tr>\n",
       "      <th>차박</th>\n",
       "      <td>10396</td>\n",
       "    </tr>\n",
       "    <tr>\n",
       "      <th>글램핑</th>\n",
       "      <td>8234</td>\n",
       "    </tr>\n",
       "  </tbody>\n",
       "</table>\n",
       "</div>"
      ],
      "text/plain": [
       "         언급건수\n",
       "관련 키워드       \n",
       "스키      81564\n",
       "등산      55248\n",
       "캠핑      50557\n",
       "산행      33403\n",
       "낚시      31594\n",
       "서핑      21480\n",
       "트레킹     13946\n",
       "레저      13095\n",
       "차박      10396\n",
       "글램핑      8234"
      ]
     },
     "execution_count": 4,
     "metadata": {},
     "output_type": "execute_result"
    }
   ],
   "source": [
    "df_leisure =  pd.DataFrame(df_winter.query(\"분류 == '레포츠'\").groupby(\"관련 키워드\")[\"언급건수\"].sum()).sort_values(by='언급건수', ascending=False)\n",
    "df_leisure[:10]"
   ]
  },
  {
   "cell_type": "code",
   "execution_count": 5,
   "id": "28246012-b20a-428a-a284-8d750cab1cbe",
   "metadata": {},
   "outputs": [],
   "source": [
    "list_type = df_leisure.index[:10].to_list()\n",
    "list_mention = df_leisure[\"언급건수\"][:10].to_list()"
   ]
  },
  {
   "cell_type": "code",
   "execution_count": 6,
   "id": "6a364670-7e0d-4ec9-8ddc-06a3a3e2fb4d",
   "metadata": {},
   "outputs": [
    {
     "data": {
      "image/png": "[encoded data removed]",
      "text/plain": [
       "<Figure size 1000x600 with 1 Axes>"
      ]
     },
     "metadata": {},
     "output_type": "display_data"
    }
   ],
   "source": [
    "plt.figure(figsize=(10, 6))\n",
    "plt.plot(list_type, list_mention, marker='o', label='강원')\n",
    "plt.xlabel('Leisure Type')\n",
    "plt.ylabel('Mention')\n",
    "plt.title('Mention by Leisure Type')\n",
    "plt.legend() #범례\n",
    "plt.show()"
   ]
  },
  {
   "cell_type": "code",
   "execution_count": 7,
   "id": "e036933e-af11-4976-9d77-169c777a85df",
   "metadata": {},
   "outputs": [
    {
     "data": {
      "text/plain": [
       "[Text(0.5, 0, 'Leisure Type'), Text(0, 0.5, 'Mention')]"
      ]
     },
     "execution_count": 7,
     "metadata": {},
     "output_type": "execute_result"
    },
    {
     "data": {
      "image/png": "[encoded data removed]",
      "text/plain": [
       "<Figure size 640x480 with 1 Axes>"
      ]
     },
     "metadata": {},
     "output_type": "display_data"
    }
   ],
   "source": [
    "# seaborn의 barplot을 사용하여 그래프를 나타냅니다.\n",
    "ax = sns.barplot(x=list_type, y=list_mention)\n",
    "\n",
    "# 차트 제목 설정\n",
    "ax.set_title('Mention by Leisure Type')\n",
    "\n",
    "# x, y 축 레이블 설정\n",
    "ax.set(xlabel='Leisure Type', ylabel='Mention')"
   ]
  },
  {
   "cell_type": "markdown",
   "id": "5a4ff8e2-88d1-46db-b36d-4830d4644c05",
   "metadata": {},
   "source": [
    "## 인사이트"
   ]
  },
  {
   "cell_type": "markdown",
   "id": "4f86b299-73fd-4571-bd36-7908b5500a9b",
   "metadata": {},
   "source": [
    "- 분석 결과\n",
    "    + 레포츠 타입 중 스키에 관한 데이터가 가장 많았고, 등산, 캠핑이 차례대로 2위, 3위를 차지했다.\n",
    "    + 낚시, 서핑, 글램핑 같은 분류 기준들도 있었음.\n",
    "- 마케팅 방향성\n",
    "    + 수치가 높은 레포츠에 대한 내용을 패키지 여행 상품구성에 추가하고자 함.\n",
    "    + 따라서 스키, 등산, 캠핑 등에 대한 내용을 적용."
   ]
  },
  {
   "cell_type": "code",
   "execution_count": null,
   "id": "e066cb8c-f66d-44b9-9c2d-9fbe19904ea2",
   "metadata": {},
   "outputs": [],
   "source": []
  }
 ],
 "metadata": {
  "kernelspec": {
   "display_name": "Python 3 (ipykernel)",
   "language": "python",
   "name": "python3"
  },
  "language_info": {
   "codemirror_mode": {
    "name": "ipython",
    "version": 3
   },
   "file_extension": ".py",
   "mimetype": "text/x-python",
   "name": "python",
   "nbconvert_exporter": "python",
   "pygments_lexer": "ipython3",
   "version": "3.11.9"
  }
 },
 "nbformat": 4,
 "nbformat_minor": 5
}
