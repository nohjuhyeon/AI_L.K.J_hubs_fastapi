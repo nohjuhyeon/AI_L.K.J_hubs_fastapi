{
 "cells": [
  {
   "cell_type": "code",
   "execution_count": 1,
   "id": "bf463bf3-9149-49e1-8cec-2a7f5dd46483",
   "metadata": {},
   "outputs": [
    {
     "name": "stdout",
     "output_type": "stream",
     "text": [
      "Requirement already satisfied: pymongo in /usr/local/lib/python3.11/site-packages (4.7.0)\n",
      "Requirement already satisfied: dnspython<3.0.0,>=1.16.0 in /usr/local/lib/python3.11/site-packages (from pymongo) (2.6.1)\n",
      "\u001b[33mWARNING: Running pip as the 'root' user can result in broken permissions and conflicting behaviour with the system package manager. It is recommended to use a virtual environment instead: https://pip.pypa.io/warnings/venv\u001b[0m\u001b[33m\n",
      "\u001b[0mNote: you may need to restart the kernel to use updated packages.\n"
     ]
    }
   ],
   "source": [
    "pip install pymongo"
   ]
  },
  {
   "cell_type": "code",
   "execution_count": 2,
   "id": "967f73ed-3f03-41ba-b851-4664b932181e",
   "metadata": {},
   "outputs": [],
   "source": [
    "import pandas as pd\n",
    "import pymongo\n",
    "import seaborn as sns\n",
    "import numpy as np\n",
    "import matplotlib.pyplot as plt\n",
    "import matplotlib as mpl\n",
    "mpl.rc('font', family='NanumBarunGothic') # 혹은 다른 설치한 Nanum 폰트 사용\n",
    "import scipy\n",
    "import scipy.stats as stats"
   ]
  },
  {
   "cell_type": "code",
   "execution_count": 3,
   "id": "2e04dc60-c712-4e5c-854b-362cddac4021",
   "metadata": {},
   "outputs": [],
   "source": [
    "df_oneday = pd.read_csv(\"관광_당일여행_동반자_유형__중복응답__20240520014137.csv\", encoding='utf-8')\n",
    "df_moreday = pd.read_csv(\"관광_숙박여행_동반자_유형__중복응답__20240520014059.csv\", encoding='utf-8')"
   ]
  },
  {
   "cell_type": "markdown",
   "id": "1a7c802a-79a7-49ec-aac8-0bf0c7e11a1f",
   "metadata": {},
   "source": [
    "## 당일여행 동반자 유형 분석(20대)"
   ]
  },
  {
   "cell_type": "code",
   "execution_count": 4,
   "id": "a9e130b0-d3e1-458f-b390-2d477fbcb186",
   "metadata": {
    "scrolled": true
   },
   "outputs": [
    {
     "data": {
      "text/html": [
       "<div>\n",
       "<style scoped>\n",
       "    .dataframe tbody tr th:only-of-type {\n",
       "        vertical-align: middle;\n",
       "    }\n",
       "\n",
       "    .dataframe tbody tr th {\n",
       "        vertical-align: top;\n",
       "    }\n",
       "\n",
       "    .dataframe thead th {\n",
       "        text-align: right;\n",
       "    }\n",
       "</style>\n",
       "<table border=\"1\" class=\"dataframe\">\n",
       "  <thead>\n",
       "    <tr style=\"text-align: right;\">\n",
       "      <th></th>\n",
       "      <th>시점</th>\n",
       "      <th>통계분류(1)</th>\n",
       "      <th>통계분류(2)</th>\n",
       "      <th>가족(부모 배우자 자녀 형제)</th>\n",
       "      <th>친구/연인</th>\n",
       "      <th>친목 단체/모임(동호회 종교단체 등)</th>\n",
       "      <th>(직장)동료</th>\n",
       "      <th>친척</th>\n",
       "      <th>학교 단체(소풍 수학여행 등)</th>\n",
       "      <th>기타</th>\n",
       "    </tr>\n",
       "  </thead>\n",
       "  <tbody>\n",
       "    <tr>\n",
       "      <th>0</th>\n",
       "      <td>2019</td>\n",
       "      <td>전체</td>\n",
       "      <td>소계</td>\n",
       "      <td>49.6</td>\n",
       "      <td>41.7</td>\n",
       "      <td>6.6</td>\n",
       "      <td>2.2</td>\n",
       "      <td>2.0</td>\n",
       "      <td>0.3</td>\n",
       "      <td>0.3</td>\n",
       "    </tr>\n",
       "    <tr>\n",
       "      <th>1</th>\n",
       "      <td>2019</td>\n",
       "      <td>성별</td>\n",
       "      <td>남자</td>\n",
       "      <td>51.0</td>\n",
       "      <td>40.8</td>\n",
       "      <td>6.0</td>\n",
       "      <td>2.7</td>\n",
       "      <td>2.0</td>\n",
       "      <td>0.4</td>\n",
       "      <td>0.3</td>\n",
       "    </tr>\n",
       "    <tr>\n",
       "      <th>2</th>\n",
       "      <td>2019</td>\n",
       "      <td>성별</td>\n",
       "      <td>여자</td>\n",
       "      <td>48.3</td>\n",
       "      <td>42.5</td>\n",
       "      <td>7.2</td>\n",
       "      <td>1.7</td>\n",
       "      <td>2.1</td>\n",
       "      <td>0.2</td>\n",
       "      <td>0.3</td>\n",
       "    </tr>\n",
       "    <tr>\n",
       "      <th>3</th>\n",
       "      <td>2019</td>\n",
       "      <td>연령</td>\n",
       "      <td>15~19세</td>\n",
       "      <td>34.9</td>\n",
       "      <td>58.8</td>\n",
       "      <td>1.3</td>\n",
       "      <td>0.2</td>\n",
       "      <td>1.5</td>\n",
       "      <td>4.4</td>\n",
       "      <td>0.2</td>\n",
       "    </tr>\n",
       "    <tr>\n",
       "      <th>4</th>\n",
       "      <td>2019</td>\n",
       "      <td>연령</td>\n",
       "      <td>20대</td>\n",
       "      <td>16.6</td>\n",
       "      <td>80.7</td>\n",
       "      <td>0.7</td>\n",
       "      <td>1.7</td>\n",
       "      <td>0.7</td>\n",
       "      <td>0.2</td>\n",
       "      <td>0</td>\n",
       "    </tr>\n",
       "    <tr>\n",
       "      <th>...</th>\n",
       "      <td>...</td>\n",
       "      <td>...</td>\n",
       "      <td>...</td>\n",
       "      <td>...</td>\n",
       "      <td>...</td>\n",
       "      <td>...</td>\n",
       "      <td>...</td>\n",
       "      <td>...</td>\n",
       "      <td>...</td>\n",
       "      <td>...</td>\n",
       "    </tr>\n",
       "    <tr>\n",
       "      <th>119</th>\n",
       "      <td>2022</td>\n",
       "      <td>가구소득</td>\n",
       "      <td>200~300만원 미만</td>\n",
       "      <td>44.1</td>\n",
       "      <td>48.9</td>\n",
       "      <td>5.2</td>\n",
       "      <td>2.6</td>\n",
       "      <td>2.3</td>\n",
       "      <td>0.1</td>\n",
       "      <td>-</td>\n",
       "    </tr>\n",
       "    <tr>\n",
       "      <th>120</th>\n",
       "      <td>2022</td>\n",
       "      <td>가구소득</td>\n",
       "      <td>300~400만원 미만</td>\n",
       "      <td>55.7</td>\n",
       "      <td>40.2</td>\n",
       "      <td>3.2</td>\n",
       "      <td>2.2</td>\n",
       "      <td>1.5</td>\n",
       "      <td>-</td>\n",
       "      <td>-</td>\n",
       "    </tr>\n",
       "    <tr>\n",
       "      <th>121</th>\n",
       "      <td>2022</td>\n",
       "      <td>가구소득</td>\n",
       "      <td>400~500만원 미만</td>\n",
       "      <td>59.6</td>\n",
       "      <td>37.1</td>\n",
       "      <td>2.3</td>\n",
       "      <td>2</td>\n",
       "      <td>1.2</td>\n",
       "      <td>0.4</td>\n",
       "      <td>-</td>\n",
       "    </tr>\n",
       "    <tr>\n",
       "      <th>122</th>\n",
       "      <td>2022</td>\n",
       "      <td>가구소득</td>\n",
       "      <td>500~600만원 미만</td>\n",
       "      <td>55.8</td>\n",
       "      <td>42.1</td>\n",
       "      <td>1.6</td>\n",
       "      <td>1.7</td>\n",
       "      <td>1.1</td>\n",
       "      <td>0.1</td>\n",
       "      <td>-</td>\n",
       "    </tr>\n",
       "    <tr>\n",
       "      <th>123</th>\n",
       "      <td>2022</td>\n",
       "      <td>가구소득</td>\n",
       "      <td>600만원 이상</td>\n",
       "      <td>44.7</td>\n",
       "      <td>51.0</td>\n",
       "      <td>2.6</td>\n",
       "      <td>2.9</td>\n",
       "      <td>1.1</td>\n",
       "      <td>0</td>\n",
       "      <td>-</td>\n",
       "    </tr>\n",
       "  </tbody>\n",
       "</table>\n",
       "<p>124 rows × 10 columns</p>\n",
       "</div>"
      ],
      "text/plain": [
       "       시점 통계분류(1)       통계분류(2)  가족(부모 배우자 자녀 형제)  친구/연인  \\\n",
       "0    2019      전체            소계              49.6   41.7   \n",
       "1    2019      성별            남자              51.0   40.8   \n",
       "2    2019      성별            여자              48.3   42.5   \n",
       "3    2019      연령        15~19세              34.9   58.8   \n",
       "4    2019      연령           20대              16.6   80.7   \n",
       "..    ...     ...           ...               ...    ...   \n",
       "119  2022    가구소득  200~300만원 미만              44.1   48.9   \n",
       "120  2022    가구소득  300~400만원 미만              55.7   40.2   \n",
       "121  2022    가구소득  400~500만원 미만              59.6   37.1   \n",
       "122  2022    가구소득  500~600만원 미만              55.8   42.1   \n",
       "123  2022    가구소득      600만원 이상              44.7   51.0   \n",
       "\n",
       "     친목 단체/모임(동호회 종교단체 등) (직장)동료   친척 학교 단체(소풍 수학여행 등)   기타  \n",
       "0                     6.6    2.2  2.0              0.3  0.3  \n",
       "1                     6.0    2.7  2.0              0.4  0.3  \n",
       "2                     7.2    1.7  2.1              0.2  0.3  \n",
       "3                     1.3    0.2  1.5              4.4  0.2  \n",
       "4                     0.7    1.7  0.7              0.2    0  \n",
       "..                    ...    ...  ...              ...  ...  \n",
       "119                   5.2    2.6  2.3              0.1    -  \n",
       "120                   3.2    2.2  1.5                -    -  \n",
       "121                   2.3      2  1.2              0.4    -  \n",
       "122                   1.6    1.7  1.1              0.1    -  \n",
       "123                   2.6    2.9  1.1                0    -  \n",
       "\n",
       "[124 rows x 10 columns]"
      ]
     },
     "execution_count": 4,
     "metadata": {},
     "output_type": "execute_result"
    }
   ],
   "source": [
    "df_oneday"
   ]
  },
  {
   "cell_type": "code",
   "execution_count": 5,
   "id": "ff9d305f-fdbf-494b-a868-3b95146338ff",
   "metadata": {},
   "outputs": [
    {
     "data": {
      "text/plain": [
       "array(['전체', '성별', '연령', '직업', '학력', '가구원수', '가구소득'], dtype=object)"
      ]
     },
     "execution_count": 5,
     "metadata": {},
     "output_type": "execute_result"
    }
   ],
   "source": [
    "df_oneday[\"통계분류(1)\"].unique()"
   ]
  },
  {
   "cell_type": "code",
   "execution_count": 6,
   "id": "4715e395-08c3-4acd-ad8e-5c9a9a7eca30",
   "metadata": {},
   "outputs": [
    {
     "data": {
      "text/plain": [
       "array(['소계', '남자', '여자', '15~19세', '20대', '30대', '40대', '50대', '60대',\n",
       "       '70세 이상', '임금봉급근로자', '고용원있는사업주', '고용원없는자영업자', '무급가족 종사자', '전업주부',\n",
       "       '학생', '기타', '초졸 이하', '중학교', '고등학교', '대학교이상', '1인', '2인', '3인이상',\n",
       "       '100만원 미만', '100~200만원 미만', '200~300만원 미만', '300~400만원 미만',\n",
       "       '400~500만원 미만', '500~600만원 미만', '600만원 이상'], dtype=object)"
      ]
     },
     "execution_count": 6,
     "metadata": {},
     "output_type": "execute_result"
    }
   ],
   "source": [
    "df_oneday[\"통계분류(2)\"].unique()"
   ]
  },
  {
   "cell_type": "code",
   "execution_count": 7,
   "id": "a5a485af-2be9-4649-a86f-ffeaa1bdfffe",
   "metadata": {},
   "outputs": [
    {
     "data": {
      "text/plain": [
       "시점                       object\n",
       "통계분류(1)                  object\n",
       "통계분류(2)                  object\n",
       "가족(부모 배우자 자녀 형제)        float64\n",
       "친구/연인                   float64\n",
       "친목 단체/모임(동호회 종교단체 등)    float64\n",
       "(직장)동료                   object\n",
       "친척                      float64\n",
       "학교 단체(소풍 수학여행 등)         object\n",
       "기타                       object\n",
       "dtype: object"
      ]
     },
     "execution_count": 7,
     "metadata": {},
     "output_type": "execute_result"
    }
   ],
   "source": [
    "df_oneday['시점'] = df_oneday['시점'].astype(str)\n",
    "df_oneday.dtypes"
   ]
  },
  {
   "cell_type": "code",
   "execution_count": 8,
   "id": "d70342dc-f080-4b8d-9b27-2d4715a251a1",
   "metadata": {},
   "outputs": [
    {
     "data": {
      "text/html": [
       "<div>\n",
       "<style scoped>\n",
       "    .dataframe tbody tr th:only-of-type {\n",
       "        vertical-align: middle;\n",
       "    }\n",
       "\n",
       "    .dataframe tbody tr th {\n",
       "        vertical-align: top;\n",
       "    }\n",
       "\n",
       "    .dataframe thead th {\n",
       "        text-align: right;\n",
       "    }\n",
       "</style>\n",
       "<table border=\"1\" class=\"dataframe\">\n",
       "  <thead>\n",
       "    <tr style=\"text-align: right;\">\n",
       "      <th></th>\n",
       "      <th>시점</th>\n",
       "      <th>통계분류(1)</th>\n",
       "      <th>통계분류(2)</th>\n",
       "      <th>가족(부모 배우자 자녀 형제)</th>\n",
       "      <th>친구/연인</th>\n",
       "      <th>친목 단체/모임(동호회 종교단체 등)</th>\n",
       "      <th>(직장)동료</th>\n",
       "      <th>친척</th>\n",
       "      <th>학교 단체(소풍 수학여행 등)</th>\n",
       "      <th>기타</th>\n",
       "    </tr>\n",
       "  </thead>\n",
       "  <tbody>\n",
       "    <tr>\n",
       "      <th>3</th>\n",
       "      <td>2019</td>\n",
       "      <td>연령</td>\n",
       "      <td>15~19세</td>\n",
       "      <td>34.9</td>\n",
       "      <td>58.8</td>\n",
       "      <td>1.3</td>\n",
       "      <td>0.2</td>\n",
       "      <td>1.5</td>\n",
       "      <td>4.4</td>\n",
       "      <td>0.2</td>\n",
       "    </tr>\n",
       "    <tr>\n",
       "      <th>4</th>\n",
       "      <td>2019</td>\n",
       "      <td>연령</td>\n",
       "      <td>20대</td>\n",
       "      <td>16.6</td>\n",
       "      <td>80.7</td>\n",
       "      <td>0.7</td>\n",
       "      <td>1.7</td>\n",
       "      <td>0.7</td>\n",
       "      <td>0.2</td>\n",
       "      <td>0</td>\n",
       "    </tr>\n",
       "    <tr>\n",
       "      <th>5</th>\n",
       "      <td>2019</td>\n",
       "      <td>연령</td>\n",
       "      <td>30대</td>\n",
       "      <td>58.2</td>\n",
       "      <td>39.1</td>\n",
       "      <td>0.8</td>\n",
       "      <td>2.2</td>\n",
       "      <td>0.9</td>\n",
       "      <td>-</td>\n",
       "      <td>0.1</td>\n",
       "    </tr>\n",
       "    <tr>\n",
       "      <th>6</th>\n",
       "      <td>2019</td>\n",
       "      <td>연령</td>\n",
       "      <td>40대</td>\n",
       "      <td>66.0</td>\n",
       "      <td>27.1</td>\n",
       "      <td>3.0</td>\n",
       "      <td>3.8</td>\n",
       "      <td>2.0</td>\n",
       "      <td>0.1</td>\n",
       "      <td>0.5</td>\n",
       "    </tr>\n",
       "    <tr>\n",
       "      <th>7</th>\n",
       "      <td>2019</td>\n",
       "      <td>연령</td>\n",
       "      <td>50대</td>\n",
       "      <td>54.0</td>\n",
       "      <td>34.2</td>\n",
       "      <td>10.3</td>\n",
       "      <td>3</td>\n",
       "      <td>2.6</td>\n",
       "      <td>-</td>\n",
       "      <td>0.2</td>\n",
       "    </tr>\n",
       "  </tbody>\n",
       "</table>\n",
       "</div>"
      ],
      "text/plain": [
       "     시점 통계분류(1) 통계분류(2)  가족(부모 배우자 자녀 형제)  친구/연인  친목 단체/모임(동호회 종교단체 등) (직장)동료  \\\n",
       "3  2019      연령  15~19세              34.9   58.8                   1.3    0.2   \n",
       "4  2019      연령     20대              16.6   80.7                   0.7    1.7   \n",
       "5  2019      연령     30대              58.2   39.1                   0.8    2.2   \n",
       "6  2019      연령     40대              66.0   27.1                   3.0    3.8   \n",
       "7  2019      연령     50대              54.0   34.2                  10.3      3   \n",
       "\n",
       "    친척 학교 단체(소풍 수학여행 등)   기타  \n",
       "3  1.5              4.4  0.2  \n",
       "4  0.7              0.2    0  \n",
       "5  0.9                -  0.1  \n",
       "6  2.0              0.1  0.5  \n",
       "7  2.6                -  0.2  "
      ]
     },
     "execution_count": 8,
     "metadata": {},
     "output_type": "execute_result"
    }
   ],
   "source": [
    "df_age = df_oneday[df_oneday[\"통계분류(1)\"]==\"연령\"]\n",
    "df_age.head()"
   ]
  },
  {
   "cell_type": "code",
   "execution_count": 9,
   "id": "daf31d4b-3662-4c49-b2ed-e683815ec88a",
   "metadata": {
    "scrolled": true
   },
   "outputs": [
    {
     "data": {
      "text/plain": [
       "시점                       object\n",
       "통계분류(1)                  object\n",
       "통계분류(2)                  object\n",
       "가족(부모 배우자 자녀 형제)        float64\n",
       "친구/연인                   float64\n",
       "친목 단체/모임(동호회 종교단체 등)    float64\n",
       "(직장)동료                   object\n",
       "친척                      float64\n",
       "학교 단체(소풍 수학여행 등)         object\n",
       "기타                       object\n",
       "dtype: object"
      ]
     },
     "execution_count": 9,
     "metadata": {},
     "output_type": "execute_result"
    }
   ],
   "source": [
    "df_twenty = df_age[(df_age[\"통계분류(2)\"]==\"20대\")]\n",
    "df_twenty.dtypes"
   ]
  },
  {
   "cell_type": "code",
   "execution_count": 10,
   "id": "ba3fadeb-51fd-4a49-aa53-dbff55f984ca",
   "metadata": {},
   "outputs": [
    {
     "name": "stderr",
     "output_type": "stream",
     "text": [
      "/tmp/ipykernel_48686/3702266803.py:1: SettingWithCopyWarning: \n",
      "A value is trying to be set on a copy of a slice from a DataFrame\n",
      "\n",
      "See the caveats in the documentation: https://pandas.pydata.org/pandas-docs/stable/user_guide/indexing.html#returning-a-view-versus-a-copy\n",
      "  df_twenty.replace(\"-\", 0, inplace=True)\n"
     ]
    },
    {
     "data": {
      "text/html": [
       "<div>\n",
       "<style scoped>\n",
       "    .dataframe tbody tr th:only-of-type {\n",
       "        vertical-align: middle;\n",
       "    }\n",
       "\n",
       "    .dataframe tbody tr th {\n",
       "        vertical-align: top;\n",
       "    }\n",
       "\n",
       "    .dataframe thead th {\n",
       "        text-align: right;\n",
       "    }\n",
       "</style>\n",
       "<table border=\"1\" class=\"dataframe\">\n",
       "  <thead>\n",
       "    <tr style=\"text-align: right;\">\n",
       "      <th></th>\n",
       "      <th>가족(부모 배우자 자녀 형제)</th>\n",
       "      <th>친구/연인</th>\n",
       "      <th>친목 단체/모임(동호회 종교단체 등)</th>\n",
       "      <th>(직장)동료</th>\n",
       "      <th>친척</th>\n",
       "      <th>학교 단체(소풍 수학여행 등)</th>\n",
       "    </tr>\n",
       "    <tr>\n",
       "      <th>통계분류(2)</th>\n",
       "      <th></th>\n",
       "      <th></th>\n",
       "      <th></th>\n",
       "      <th></th>\n",
       "      <th></th>\n",
       "      <th></th>\n",
       "    </tr>\n",
       "  </thead>\n",
       "  <tbody>\n",
       "    <tr>\n",
       "      <th>20대</th>\n",
       "      <td>16.175</td>\n",
       "      <td>81.375</td>\n",
       "      <td>0.45</td>\n",
       "      <td>1.8</td>\n",
       "      <td>0.6</td>\n",
       "      <td>0.075</td>\n",
       "    </tr>\n",
       "  </tbody>\n",
       "</table>\n",
       "</div>"
      ],
      "text/plain": [
       "         가족(부모 배우자 자녀 형제)   친구/연인  친목 단체/모임(동호회 종교단체 등) (직장)동료   친척  \\\n",
       "통계분류(2)                                                               \n",
       "20대                16.175  81.375                  0.45    1.8  0.6   \n",
       "\n",
       "        학교 단체(소풍 수학여행 등)  \n",
       "통계분류(2)                   \n",
       "20대                0.075  "
      ]
     },
     "execution_count": 10,
     "metadata": {},
     "output_type": "execute_result"
    }
   ],
   "source": [
    "df_twenty.replace(\"-\", 0, inplace=True)\n",
    "df_twenty.iloc[:, 3:] = df_twenty.iloc[:, 3:].astype(float)\n",
    "df_twenty_value = df_twenty.groupby(\"통계분류(2)\")[['가족(부모 배우자 자녀 형제)',\"친구/연인\",\"친목 단체/모임(동호회 종교단체 등)\",\"(직장)동료\",\"친척\",\"학교 단체(소풍 수학여행 등)\"]].sum()/4\n",
    "df_twenty_value"
   ]
  },
  {
   "cell_type": "code",
   "execution_count": 11,
   "id": "36ac5f1c-5281-4621-96c9-4547cffe0666",
   "metadata": {},
   "outputs": [],
   "source": [
    "value_x_twenty = df_twenty_value.columns.to_list()\n",
    "value_y_twenty = df_twenty_value.iloc[0].tolist()"
   ]
  },
  {
   "cell_type": "code",
   "execution_count": 12,
   "id": "2ff2bdfc-1a89-42c2-b8ff-1424c3d16bd4",
   "metadata": {},
   "outputs": [
    {
     "name": "stderr",
     "output_type": "stream",
     "text": [
      "/tmp/ipykernel_48686/4250461494.py:13: FutureWarning: \n",
      "\n",
      "Passing `palette` without assigning `hue` is deprecated and will be removed in v0.14.0. Assign the `x` variable to `hue` and set `legend=False` for the same effect.\n",
      "\n",
      "  barplot = sns.barplot(x=value_x_twenty, y=value_y_twenty, palette=colors)\n"
     ]
    },
    {
     "data": {
      "image/png": "[encoded data removed]",
      "text/plain": [
       "<Figure size 1400x900 with 1 Axes>"
      ]
     },
     "metadata": {},
     "output_type": "display_data"
    }
   ],
   "source": [
    "plt.figure(figsize=(14, 9))\n",
    "\n",
    "# 가장 높은 값의 index 찾기\n",
    "max_value_index = value_y_twenty.index(max(value_y_twenty))\n",
    "\n",
    "# 모든 값을 회색으로 설정\n",
    "colors = ['grey'] * len(value_x_twenty)\n",
    "\n",
    "# 가장 높은 값을 파란색으로 설정\n",
    "colors[max_value_index] = 'blue'\n",
    "\n",
    "# 막대 그래프 그리기\n",
    "barplot = sns.barplot(x=value_x_twenty, y=value_y_twenty, palette=colors)\n",
    "\n",
    "# 타이틀 설정\n",
    "plt.title('당일 20대 평균 동반유형')\n",
    "\n",
    "plt.show()"
   ]
  },
  {
   "cell_type": "markdown",
   "id": "3bd6f212-522c-4ab2-90f0-f3859b926a29",
   "metadata": {},
   "source": [
    "## 숙박여행 동반자 유형 분석 (40대)"
   ]
  },
  {
   "cell_type": "code",
   "execution_count": 13,
   "id": "1f533cb0-7f28-4da9-9437-4eb28d023926",
   "metadata": {},
   "outputs": [
    {
     "data": {
      "text/plain": [
       "시점                       object\n",
       "통계분류(1)                  object\n",
       "통계분류(2)                  object\n",
       "가족(부모 배우자 자녀 형제)        float64\n",
       "친구/연인                   float64\n",
       "친척                      float64\n",
       "친목 단체/모임(동호회 종교단체 등)     object\n",
       "(직장)동료                   object\n",
       "학교 단체(소풍 수학여행 등)         object\n",
       "기타                       object\n",
       "dtype: object"
      ]
     },
     "execution_count": 13,
     "metadata": {},
     "output_type": "execute_result"
    }
   ],
   "source": [
    "df_moreday\n",
    "df_moreday['시점'] = df_oneday['시점'].astype(str)\n",
    "df_moreday.dtypes"
   ]
  },
  {
   "cell_type": "code",
   "execution_count": 14,
   "id": "a7dcb390-29ff-4832-97f9-ed595e71b85f",
   "metadata": {},
   "outputs": [
    {
     "data": {
      "text/html": [
       "<div>\n",
       "<style scoped>\n",
       "    .dataframe tbody tr th:only-of-type {\n",
       "        vertical-align: middle;\n",
       "    }\n",
       "\n",
       "    .dataframe tbody tr th {\n",
       "        vertical-align: top;\n",
       "    }\n",
       "\n",
       "    .dataframe thead th {\n",
       "        text-align: right;\n",
       "    }\n",
       "</style>\n",
       "<table border=\"1\" class=\"dataframe\">\n",
       "  <thead>\n",
       "    <tr style=\"text-align: right;\">\n",
       "      <th></th>\n",
       "      <th>시점</th>\n",
       "      <th>통계분류(1)</th>\n",
       "      <th>통계분류(2)</th>\n",
       "      <th>가족(부모 배우자 자녀 형제)</th>\n",
       "      <th>친구/연인</th>\n",
       "      <th>친척</th>\n",
       "      <th>친목 단체/모임(동호회 종교단체 등)</th>\n",
       "      <th>(직장)동료</th>\n",
       "      <th>학교 단체(소풍 수학여행 등)</th>\n",
       "      <th>기타</th>\n",
       "    </tr>\n",
       "  </thead>\n",
       "  <tbody>\n",
       "    <tr>\n",
       "      <th>3</th>\n",
       "      <td>2019</td>\n",
       "      <td>연령</td>\n",
       "      <td>15~19세</td>\n",
       "      <td>62.0</td>\n",
       "      <td>34.1</td>\n",
       "      <td>4.1</td>\n",
       "      <td>1.8</td>\n",
       "      <td>0.4</td>\n",
       "      <td>2.6</td>\n",
       "      <td>-</td>\n",
       "    </tr>\n",
       "    <tr>\n",
       "      <th>4</th>\n",
       "      <td>2019</td>\n",
       "      <td>연령</td>\n",
       "      <td>20대</td>\n",
       "      <td>20.4</td>\n",
       "      <td>75.2</td>\n",
       "      <td>1.5</td>\n",
       "      <td>1</td>\n",
       "      <td>2.9</td>\n",
       "      <td>0.7</td>\n",
       "      <td>0</td>\n",
       "    </tr>\n",
       "    <tr>\n",
       "      <th>5</th>\n",
       "      <td>2019</td>\n",
       "      <td>연령</td>\n",
       "      <td>30대</td>\n",
       "      <td>64.2</td>\n",
       "      <td>33.9</td>\n",
       "      <td>3.2</td>\n",
       "      <td>1</td>\n",
       "      <td>2.1</td>\n",
       "      <td>-</td>\n",
       "      <td>0.1</td>\n",
       "    </tr>\n",
       "    <tr>\n",
       "      <th>6</th>\n",
       "      <td>2019</td>\n",
       "      <td>연령</td>\n",
       "      <td>40대</td>\n",
       "      <td>78.8</td>\n",
       "      <td>16.1</td>\n",
       "      <td>4.5</td>\n",
       "      <td>2.8</td>\n",
       "      <td>3</td>\n",
       "      <td>0.1</td>\n",
       "      <td>0.2</td>\n",
       "    </tr>\n",
       "    <tr>\n",
       "      <th>7</th>\n",
       "      <td>2019</td>\n",
       "      <td>연령</td>\n",
       "      <td>50대</td>\n",
       "      <td>66.6</td>\n",
       "      <td>28.9</td>\n",
       "      <td>4.8</td>\n",
       "      <td>6</td>\n",
       "      <td>2.3</td>\n",
       "      <td>0.1</td>\n",
       "      <td>0.3</td>\n",
       "    </tr>\n",
       "  </tbody>\n",
       "</table>\n",
       "</div>"
      ],
      "text/plain": [
       "     시점 통계분류(1) 통계분류(2)  가족(부모 배우자 자녀 형제)  친구/연인   친척 친목 단체/모임(동호회 종교단체 등)  \\\n",
       "3  2019      연령  15~19세              62.0   34.1  4.1                  1.8   \n",
       "4  2019      연령     20대              20.4   75.2  1.5                    1   \n",
       "5  2019      연령     30대              64.2   33.9  3.2                    1   \n",
       "6  2019      연령     40대              78.8   16.1  4.5                  2.8   \n",
       "7  2019      연령     50대              66.6   28.9  4.8                    6   \n",
       "\n",
       "  (직장)동료 학교 단체(소풍 수학여행 등)   기타  \n",
       "3    0.4              2.6    -  \n",
       "4    2.9              0.7    0  \n",
       "5    2.1                -  0.1  \n",
       "6      3              0.1  0.2  \n",
       "7    2.3              0.1  0.3  "
      ]
     },
     "execution_count": 14,
     "metadata": {},
     "output_type": "execute_result"
    }
   ],
   "source": [
    "df_age = df_moreday[df_oneday[\"통계분류(1)\"]==\"연령\"]\n",
    "df_age.head()"
   ]
  },
  {
   "cell_type": "code",
   "execution_count": 15,
   "id": "4fdd13f0-1609-4af3-b319-b48eb60396f1",
   "metadata": {},
   "outputs": [
    {
     "data": {
      "text/html": [
       "<div>\n",
       "<style scoped>\n",
       "    .dataframe tbody tr th:only-of-type {\n",
       "        vertical-align: middle;\n",
       "    }\n",
       "\n",
       "    .dataframe tbody tr th {\n",
       "        vertical-align: top;\n",
       "    }\n",
       "\n",
       "    .dataframe thead th {\n",
       "        text-align: right;\n",
       "    }\n",
       "</style>\n",
       "<table border=\"1\" class=\"dataframe\">\n",
       "  <thead>\n",
       "    <tr style=\"text-align: right;\">\n",
       "      <th></th>\n",
       "      <th>시점</th>\n",
       "      <th>통계분류(1)</th>\n",
       "      <th>통계분류(2)</th>\n",
       "      <th>가족(부모 배우자 자녀 형제)</th>\n",
       "      <th>친구/연인</th>\n",
       "      <th>친척</th>\n",
       "      <th>친목 단체/모임(동호회 종교단체 등)</th>\n",
       "      <th>(직장)동료</th>\n",
       "      <th>학교 단체(소풍 수학여행 등)</th>\n",
       "      <th>기타</th>\n",
       "    </tr>\n",
       "  </thead>\n",
       "  <tbody>\n",
       "    <tr>\n",
       "      <th>6</th>\n",
       "      <td>2019</td>\n",
       "      <td>연령</td>\n",
       "      <td>40대</td>\n",
       "      <td>78.8</td>\n",
       "      <td>16.1</td>\n",
       "      <td>4.5</td>\n",
       "      <td>2.8</td>\n",
       "      <td>3</td>\n",
       "      <td>0.1</td>\n",
       "      <td>0.2</td>\n",
       "    </tr>\n",
       "    <tr>\n",
       "      <th>37</th>\n",
       "      <td>2020</td>\n",
       "      <td>연령</td>\n",
       "      <td>40대</td>\n",
       "      <td>83.9</td>\n",
       "      <td>13.5</td>\n",
       "      <td>4.4</td>\n",
       "      <td>1.2</td>\n",
       "      <td>3.1</td>\n",
       "      <td>-</td>\n",
       "      <td>-</td>\n",
       "    </tr>\n",
       "    <tr>\n",
       "      <th>68</th>\n",
       "      <td>2021</td>\n",
       "      <td>연령</td>\n",
       "      <td>40대</td>\n",
       "      <td>87.6</td>\n",
       "      <td>10.5</td>\n",
       "      <td>3.2</td>\n",
       "      <td>0.4</td>\n",
       "      <td>2.1</td>\n",
       "      <td>-</td>\n",
       "      <td>-</td>\n",
       "    </tr>\n",
       "    <tr>\n",
       "      <th>99</th>\n",
       "      <td>2022</td>\n",
       "      <td>연령</td>\n",
       "      <td>40대</td>\n",
       "      <td>84.0</td>\n",
       "      <td>12.8</td>\n",
       "      <td>2.6</td>\n",
       "      <td>1.5</td>\n",
       "      <td>2.1</td>\n",
       "      <td>-</td>\n",
       "      <td>-</td>\n",
       "    </tr>\n",
       "  </tbody>\n",
       "</table>\n",
       "</div>"
      ],
      "text/plain": [
       "      시점 통계분류(1) 통계분류(2)  가족(부모 배우자 자녀 형제)  친구/연인   친척 친목 단체/모임(동호회 종교단체 등)  \\\n",
       "6   2019      연령     40대              78.8   16.1  4.5                  2.8   \n",
       "37  2020      연령     40대              83.9   13.5  4.4                  1.2   \n",
       "68  2021      연령     40대              87.6   10.5  3.2                  0.4   \n",
       "99  2022      연령     40대              84.0   12.8  2.6                  1.5   \n",
       "\n",
       "   (직장)동료 학교 단체(소풍 수학여행 등)   기타  \n",
       "6       3              0.1  0.2  \n",
       "37    3.1                -    -  \n",
       "68    2.1                -    -  \n",
       "99    2.1                -    -  "
      ]
     },
     "execution_count": 15,
     "metadata": {},
     "output_type": "execute_result"
    }
   ],
   "source": [
    "df_forty = df_age[(df_age[\"통계분류(2)\"]==\"40대\")]\n",
    "df_forty"
   ]
  },
  {
   "cell_type": "code",
   "execution_count": 16,
   "id": "cdeedec9-2cf9-4b3d-bc92-3d0a7e5f64b5",
   "metadata": {},
   "outputs": [
    {
     "name": "stderr",
     "output_type": "stream",
     "text": [
      "/tmp/ipykernel_48686/3484112333.py:1: SettingWithCopyWarning: \n",
      "A value is trying to be set on a copy of a slice from a DataFrame\n",
      "\n",
      "See the caveats in the documentation: https://pandas.pydata.org/pandas-docs/stable/user_guide/indexing.html#returning-a-view-versus-a-copy\n",
      "  df_forty.replace(\"-\", 0, inplace=True)\n"
     ]
    },
    {
     "data": {
      "text/html": [
       "<div>\n",
       "<style scoped>\n",
       "    .dataframe tbody tr th:only-of-type {\n",
       "        vertical-align: middle;\n",
       "    }\n",
       "\n",
       "    .dataframe tbody tr th {\n",
       "        vertical-align: top;\n",
       "    }\n",
       "\n",
       "    .dataframe thead th {\n",
       "        text-align: right;\n",
       "    }\n",
       "</style>\n",
       "<table border=\"1\" class=\"dataframe\">\n",
       "  <thead>\n",
       "    <tr style=\"text-align: right;\">\n",
       "      <th></th>\n",
       "      <th>가족(부모 배우자 자녀 형제)</th>\n",
       "      <th>친구/연인</th>\n",
       "      <th>친목 단체/모임(동호회 종교단체 등)</th>\n",
       "      <th>(직장)동료</th>\n",
       "      <th>친척</th>\n",
       "      <th>학교 단체(소풍 수학여행 등)</th>\n",
       "    </tr>\n",
       "    <tr>\n",
       "      <th>통계분류(2)</th>\n",
       "      <th></th>\n",
       "      <th></th>\n",
       "      <th></th>\n",
       "      <th></th>\n",
       "      <th></th>\n",
       "      <th></th>\n",
       "    </tr>\n",
       "  </thead>\n",
       "  <tbody>\n",
       "    <tr>\n",
       "      <th>40대</th>\n",
       "      <td>83.575</td>\n",
       "      <td>13.225</td>\n",
       "      <td>1.475</td>\n",
       "      <td>2.575</td>\n",
       "      <td>3.675</td>\n",
       "      <td>0.025</td>\n",
       "    </tr>\n",
       "  </tbody>\n",
       "</table>\n",
       "</div>"
      ],
      "text/plain": [
       "         가족(부모 배우자 자녀 형제)   친구/연인 친목 단체/모임(동호회 종교단체 등) (직장)동료     친척  \\\n",
       "통계분류(2)                                                                \n",
       "40대                83.575  13.225                1.475  2.575  3.675   \n",
       "\n",
       "        학교 단체(소풍 수학여행 등)  \n",
       "통계분류(2)                   \n",
       "40대                0.025  "
      ]
     },
     "execution_count": 16,
     "metadata": {},
     "output_type": "execute_result"
    }
   ],
   "source": [
    "df_forty.replace(\"-\", 0, inplace=True)\n",
    "df_forty.iloc[:, 3:] = df_forty.iloc[:, 3:].astype(float)\n",
    "df_forty_value = df_forty.groupby(\"통계분류(2)\")[['가족(부모 배우자 자녀 형제)',\"친구/연인\",\"친목 단체/모임(동호회 종교단체 등)\",\"(직장)동료\",\"친척\",\"학교 단체(소풍 수학여행 등)\"]].sum()/4\n",
    "df_forty_value"
   ]
  },
  {
   "cell_type": "code",
   "execution_count": 17,
   "id": "2258966b-1159-42df-abf6-c23255a4733f",
   "metadata": {},
   "outputs": [],
   "source": [
    "value_x_forty = df_forty_value.columns.to_list()\n",
    "value_y_forty = df_forty_value.iloc[0].tolist()"
   ]
  },
  {
   "cell_type": "code",
   "execution_count": 18,
   "id": "f7b7ba58-a74a-474d-82f9-70f9e8f1aa57",
   "metadata": {},
   "outputs": [
    {
     "name": "stderr",
     "output_type": "stream",
     "text": [
      "/tmp/ipykernel_48686/2005356718.py:13: FutureWarning: \n",
      "\n",
      "Passing `palette` without assigning `hue` is deprecated and will be removed in v0.14.0. Assign the `x` variable to `hue` and set `legend=False` for the same effect.\n",
      "\n",
      "  barplot = sns.barplot(x=value_x_forty, y=value_y_forty, palette=colors)\n"
     ]
    },
    {
     "data": {
      "image/png": "[encoded data removed]",
      "text/plain": [
       "<Figure size 1400x900 with 1 Axes>"
      ]
     },
     "metadata": {},
     "output_type": "display_data"
    }
   ],
   "source": [
    "plt.figure(figsize=(14, 9))\n",
    "\n",
    "# 가장 높은 값의 index 찾기\n",
    "max_value_index = value_y_forty.index(max(value_y_forty))\n",
    "\n",
    "# 모든 값을 회색으로 설정\n",
    "colors = ['grey'] * len(value_x_forty)\n",
    "\n",
    "# 가장 높은 값을 파란색으로 설정\n",
    "colors[max_value_index] = 'blue'\n",
    "\n",
    "# 막대 그래프 그리기\n",
    "barplot = sns.barplot(x=value_x_forty, y=value_y_forty, palette=colors)\n",
    "\n",
    "# 타이틀 설정\n",
    "plt.title('숙박 40대 평균 동반유형')\n",
    "\n",
    "plt.show()\n"
   ]
  },
  {
   "cell_type": "code",
   "execution_count": null,
   "id": "7978a534-8e0e-4f93-bd90-3fe407a88497",
   "metadata": {},
   "outputs": [],
   "source": []
  }
 ],
 "metadata": {
  "kernelspec": {
   "display_name": "Python 3 (ipykernel)",
   "language": "python",
   "name": "python3"
  },
  "language_info": {
   "codemirror_mode": {
    "name": "ipython",
    "version": 3
   },
   "file_extension": ".py",
   "mimetype": "text/x-python",
   "name": "python",
   "nbconvert_exporter": "python",
   "pygments_lexer": "ipython3",
   "version": "3.11.9"
  }
 },
 "nbformat": 4,
 "nbformat_minor": 5
}
