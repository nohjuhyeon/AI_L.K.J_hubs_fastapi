{
 "cells": [
  {
   "cell_type": "code",
   "execution_count": 10,
   "id": "b509d824-84ee-4bd6-b937-d965f62a8c73",
   "metadata": {},
   "outputs": [],
   "source": [
    "import pandas as pd\n",
    "import pymongo\n",
    "import seaborn as sns\n",
    "import numpy as np\n",
    "import matplotlib.pyplot as plt\n",
    "import matplotlib as mpl\n",
    "mpl.rc('font', family='NanumBarunGothic') # 혹은 다른 설치한 Nanum 폰트 사용\n",
    "import scipy\n",
    "import scipy.stats as stats"
   ]
  },
  {
   "cell_type": "code",
   "execution_count": 11,
   "id": "78edb22b-23e5-48d1-865b-fe3c4ce97a25",
   "metadata": {},
   "outputs": [
    {
     "ename": "SyntaxError",
     "evalue": "incomplete input (4069480945.py, line 1)",
     "output_type": "error",
     "traceback": [
      "\u001b[0;36m  Cell \u001b[0;32mIn[11], line 1\u001b[0;36m\u001b[0m\n\u001b[0;31m    pd.read_csv(\u001b[0m\n\u001b[0m                ^\u001b[0m\n\u001b[0;31mSyntaxError\u001b[0m\u001b[0;31m:\u001b[0m incomplete input\n"
     ]
    }
   ],
   "source": [
    "pd.read_csv(\"관광_당일여행_동반자_수_분포__본인포함__20240517172902.csv\", utf_code"
   ]
  },
  {
   "cell_type": "code",
   "execution_count": null,
   "id": "75f35e65-5585-40bf-b12f-1586bfed74b4",
   "metadata": {},
   "outputs": [],
   "source": [
    "df_thatday = pd.read_csv(\"관광_당일여행_동반자_수_분포__본인포함__20240517172902.csv\", encoding='utf-8')\n",
    "df_thatday = pd.read_csv(\"관광_숙박여행_동반자_수_분포__본인포함__20240517172917.csv\", encoding='utf-8')\n",
    "pd.read_csv(\"관광여행_동반자_수__본인포함__20240517173000.csv\", encoding='utf-8')\n",
    "pd.read_csv(\"관광여행_동반자_수_분포__본인포함__20240517172934.csv\", encoding='utf-8')"
   ]
  }
 ],
 "metadata": {
  "kernelspec": {
   "display_name": "Python 3 (ipykernel)",
   "language": "python",
   "name": "python3"
  },
  "language_info": {
   "codemirror_mode": {
    "name": "ipython",
    "version": 3
   },
   "file_extension": ".py",
   "mimetype": "text/x-python",
   "name": "python",
   "nbconvert_exporter": "python",
   "pygments_lexer": "ipython3",
   "version": "3.11.9"
  }
 },
 "nbformat": 4,
 "nbformat_minor": 5
}
