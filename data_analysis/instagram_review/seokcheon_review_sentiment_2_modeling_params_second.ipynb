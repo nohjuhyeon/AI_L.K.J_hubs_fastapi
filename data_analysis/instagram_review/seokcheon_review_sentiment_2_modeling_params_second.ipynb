{
 "cells": [
  {
   "cell_type": "code",
   "execution_count": 1,
   "id": "c29e6628-0994-475c-aaca-807eac3e0137",
   "metadata": {},
   "outputs": [],
   "source": [
    "import pandas as pd\n",
    "import pymongo\n",
    "import seaborn as sns\n",
    "import numpy as np\n",
    "import matplotlib.pyplot as plt\n",
    "import matplotlib as mpl\n",
    "mpl.rc('font', family='NanumBarunGothic') # 혹은 다른 설치한 Nanum 폰트 사용\n",
    "import scipy\n",
    "import scipy.stats as stats\n",
    "\n",
    "client=pymongo.MongoClient(\"192.168.10.240\",27017)\n",
    "db= client['AI_LKJ']\n",
    "collection_9suk = db['kto9suk9suk_review']\n",
    "collection_yeomi = db['yeomi_review']\n",
    "\n",
    "data_consume_9suk = collection_9suk.find()\n",
    "data_consume_yeomi = collection_yeomi.find()\n",
    "\n",
    "df_consume_9suk = pd.DataFrame(data_consume_9suk)\n",
    "df_consume_yeomi = pd.DataFrame(data_consume_yeomi)"
   ]
  },
  {
   "cell_type": "markdown",
   "id": "e35ee36f-6287-402e-9a1f-29a9aeecb24b",
   "metadata": {
    "jp-MarkdownHeadingCollapsed": true
   },
   "source": [
    "### 데이터셋"
   ]
  },
  {
   "cell_type": "code",
   "execution_count": 2,
   "id": "49cdb646-8e32-412d-aae8-18439db5db65",
   "metadata": {},
   "outputs": [],
   "source": [
    "# 텍스트 파일 경로\n",
    "file_path = 'steam.txt'\n",
    "\n",
    "# 텍스트 파일 읽기\n",
    "with open(file_path, 'r') as file:\n",
    "    read_data = file.read()"
   ]
  },
  {
   "cell_type": "code",
   "execution_count": 3,
   "id": "9400b25a-ac76-4ae2-b16f-91552f25249c",
   "metadata": {},
   "outputs": [
    {
     "data": {
      "text/html": [
       "<div>\n",
       "<style scoped>\n",
       "    .dataframe tbody tr th:only-of-type {\n",
       "        vertical-align: middle;\n",
       "    }\n",
       "\n",
       "    .dataframe tbody tr th {\n",
       "        vertical-align: top;\n",
       "    }\n",
       "\n",
       "    .dataframe thead th {\n",
       "        text-align: right;\n",
       "    }\n",
       "</style>\n",
       "<table border=\"1\" class=\"dataframe\">\n",
       "  <thead>\n",
       "    <tr style=\"text-align: right;\">\n",
       "      <th></th>\n",
       "      <th>0</th>\n",
       "      <th>노래가 너무 적음</th>\n",
       "    </tr>\n",
       "  </thead>\n",
       "  <tbody>\n",
       "    <tr>\n",
       "      <th>0</th>\n",
       "      <td>0</td>\n",
       "      <td>돌겠네 진짜. 황숙아, 어크 공장 그만 돌려라. 죽는다.</td>\n",
       "    </tr>\n",
       "    <tr>\n",
       "      <th>1</th>\n",
       "      <td>1</td>\n",
       "      <td>막노동 체험판 막노동 하는사람인데 장비를 내가 사야돼 뭐지</td>\n",
       "    </tr>\n",
       "    <tr>\n",
       "      <th>2</th>\n",
       "      <td>1</td>\n",
       "      <td>차악!차악!!차악!!! 정말 이래서 왕국을 되찾을 수 있는거야??</td>\n",
       "    </tr>\n",
       "    <tr>\n",
       "      <th>3</th>\n",
       "      <td>1</td>\n",
       "      <td>시간 때우기에 좋음.. 도전과제는 50시간이면 다 깰 수 있어요</td>\n",
       "    </tr>\n",
       "    <tr>\n",
       "      <th>4</th>\n",
       "      <td>1</td>\n",
       "      <td>역시 재미있네요 전작에서 할수 없었던 자유로운 덱 빌딩도 좋네요^^</td>\n",
       "    </tr>\n",
       "    <tr>\n",
       "      <th>...</th>\n",
       "      <td>...</td>\n",
       "      <td>...</td>\n",
       "    </tr>\n",
       "    <tr>\n",
       "      <th>99994</th>\n",
       "      <td>0</td>\n",
       "      <td>한글화해주면 10개산다</td>\n",
       "    </tr>\n",
       "    <tr>\n",
       "      <th>99995</th>\n",
       "      <td>0</td>\n",
       "      <td>개쌉노잼 ㅋㅋ</td>\n",
       "    </tr>\n",
       "    <tr>\n",
       "      <th>99996</th>\n",
       "      <td>0</td>\n",
       "      <td>노잼이네요... 30분하고 지웠어요...</td>\n",
       "    </tr>\n",
       "    <tr>\n",
       "      <th>99997</th>\n",
       "      <td>1</td>\n",
       "      <td>야생을 사랑하는 사람들을 위한 짧지만 여운이 남는 이야기. 영어는 그리 어렵지 않습니다.</td>\n",
       "    </tr>\n",
       "    <tr>\n",
       "      <th>99998</th>\n",
       "      <td>1</td>\n",
       "      <td>한국의 메탈레이지를 떠오르게한다 진짜 손맛으로 하는게임</td>\n",
       "    </tr>\n",
       "  </tbody>\n",
       "</table>\n",
       "<p>99999 rows × 2 columns</p>\n",
       "</div>"
      ],
      "text/plain": [
       "       0                                          노래가 너무 적음\n",
       "0      0                    돌겠네 진짜. 황숙아, 어크 공장 그만 돌려라. 죽는다.\n",
       "1      1                   막노동 체험판 막노동 하는사람인데 장비를 내가 사야돼 뭐지\n",
       "2      1               차악!차악!!차악!!! 정말 이래서 왕국을 되찾을 수 있는거야??\n",
       "3      1                시간 때우기에 좋음.. 도전과제는 50시간이면 다 깰 수 있어요\n",
       "4      1              역시 재미있네요 전작에서 할수 없었던 자유로운 덱 빌딩도 좋네요^^\n",
       "...   ..                                                ...\n",
       "99994  0                                       한글화해주면 10개산다\n",
       "99995  0                                            개쌉노잼 ㅋㅋ\n",
       "99996  0                             노잼이네요... 30분하고 지웠어요...\n",
       "99997  1  야생을 사랑하는 사람들을 위한 짧지만 여운이 남는 이야기. 영어는 그리 어렵지 않습니다.\n",
       "99998  1                     한국의 메탈레이지를 떠오르게한다 진짜 손맛으로 하는게임\n",
       "\n",
       "[99999 rows x 2 columns]"
      ]
     },
     "execution_count": 3,
     "metadata": {},
     "output_type": "execute_result"
    }
   ],
   "source": [
    "import pandas as pd\n",
    "from io import StringIO\n",
    "\n",
    "# 텍스트 데이터를 파일 객체로 변환\n",
    "file_obj = StringIO(read_data)\n",
    "file_obj\n",
    "# 데이터프레임 생성\n",
    "df_labeled = pd.read_csv(file_obj, sep='\\t')\n",
    "df_labeled"
   ]
  },
  {
   "cell_type": "code",
   "execution_count": 4,
   "id": "43e59a2f-2c6d-4f19-8e24-612463f24f81",
   "metadata": {},
   "outputs": [
    {
     "data": {
      "text/html": [
       "<div>\n",
       "<style scoped>\n",
       "    .dataframe tbody tr th:only-of-type {\n",
       "        vertical-align: middle;\n",
       "    }\n",
       "\n",
       "    .dataframe tbody tr th {\n",
       "        vertical-align: top;\n",
       "    }\n",
       "\n",
       "    .dataframe thead th {\n",
       "        text-align: right;\n",
       "    }\n",
       "</style>\n",
       "<table border=\"1\" class=\"dataframe\">\n",
       "  <thead>\n",
       "    <tr style=\"text-align: right;\">\n",
       "      <th></th>\n",
       "      <th>sentiment</th>\n",
       "      <th>comment</th>\n",
       "    </tr>\n",
       "  </thead>\n",
       "  <tbody>\n",
       "    <tr>\n",
       "      <th>0</th>\n",
       "      <td>0</td>\n",
       "      <td>돌겠네 진짜. 황숙아, 어크 공장 그만 돌려라. 죽는다.</td>\n",
       "    </tr>\n",
       "    <tr>\n",
       "      <th>1</th>\n",
       "      <td>1</td>\n",
       "      <td>막노동 체험판 막노동 하는사람인데 장비를 내가 사야돼 뭐지</td>\n",
       "    </tr>\n",
       "    <tr>\n",
       "      <th>2</th>\n",
       "      <td>1</td>\n",
       "      <td>차악!차악!!차악!!! 정말 이래서 왕국을 되찾을 수 있는거야??</td>\n",
       "    </tr>\n",
       "    <tr>\n",
       "      <th>3</th>\n",
       "      <td>1</td>\n",
       "      <td>시간 때우기에 좋음.. 도전과제는 50시간이면 다 깰 수 있어요</td>\n",
       "    </tr>\n",
       "    <tr>\n",
       "      <th>4</th>\n",
       "      <td>1</td>\n",
       "      <td>역시 재미있네요 전작에서 할수 없었던 자유로운 덱 빌딩도 좋네요^^</td>\n",
       "    </tr>\n",
       "    <tr>\n",
       "      <th>...</th>\n",
       "      <td>...</td>\n",
       "      <td>...</td>\n",
       "    </tr>\n",
       "    <tr>\n",
       "      <th>99995</th>\n",
       "      <td>0</td>\n",
       "      <td>개쌉노잼 ㅋㅋ</td>\n",
       "    </tr>\n",
       "    <tr>\n",
       "      <th>99996</th>\n",
       "      <td>0</td>\n",
       "      <td>노잼이네요... 30분하고 지웠어요...</td>\n",
       "    </tr>\n",
       "    <tr>\n",
       "      <th>99997</th>\n",
       "      <td>1</td>\n",
       "      <td>야생을 사랑하는 사람들을 위한 짧지만 여운이 남는 이야기. 영어는 그리 어렵지 않습니다.</td>\n",
       "    </tr>\n",
       "    <tr>\n",
       "      <th>99998</th>\n",
       "      <td>1</td>\n",
       "      <td>한국의 메탈레이지를 떠오르게한다 진짜 손맛으로 하는게임</td>\n",
       "    </tr>\n",
       "    <tr>\n",
       "      <th>99999</th>\n",
       "      <td>0</td>\n",
       "      <td>노래가 너무 적음</td>\n",
       "    </tr>\n",
       "  </tbody>\n",
       "</table>\n",
       "<p>100000 rows × 2 columns</p>\n",
       "</div>"
      ],
      "text/plain": [
       "       sentiment                                            comment\n",
       "0              0                    돌겠네 진짜. 황숙아, 어크 공장 그만 돌려라. 죽는다.\n",
       "1              1                   막노동 체험판 막노동 하는사람인데 장비를 내가 사야돼 뭐지\n",
       "2              1               차악!차악!!차악!!! 정말 이래서 왕국을 되찾을 수 있는거야??\n",
       "3              1                시간 때우기에 좋음.. 도전과제는 50시간이면 다 깰 수 있어요\n",
       "4              1              역시 재미있네요 전작에서 할수 없었던 자유로운 덱 빌딩도 좋네요^^\n",
       "...          ...                                                ...\n",
       "99995          0                                            개쌉노잼 ㅋㅋ\n",
       "99996          0                             노잼이네요... 30분하고 지웠어요...\n",
       "99997          1  야생을 사랑하는 사람들을 위한 짧지만 여운이 남는 이야기. 영어는 그리 어렵지 않습니다.\n",
       "99998          1                     한국의 메탈레이지를 떠오르게한다 진짜 손맛으로 하는게임\n",
       "99999          0                                          노래가 너무 적음\n",
       "\n",
       "[100000 rows x 2 columns]"
      ]
     },
     "execution_count": 4,
     "metadata": {},
     "output_type": "execute_result"
    }
   ],
   "source": [
    "df_labeled.columns = [\"sentiment\",\"comment\"]\n",
    "new_record = {'sentiment': 0, 'comment': \"노래가 너무 적음\"}\n",
    "df_labeled = pd.concat([df_labeled, pd.DataFrame([new_record])], ignore_index=True)\n",
    "df_labeled"
   ]
  },
  {
   "cell_type": "markdown",
   "id": "0ab76366-a88e-4a75-b30a-7fe5fca93b9d",
   "metadata": {},
   "source": [
    "### 피클 불러오기"
   ]
  },
  {
   "cell_type": "code",
   "execution_count": 5,
   "id": "ab645cb7-0bcc-4e6d-9811-6e59de9c4e8d",
   "metadata": {},
   "outputs": [
    {
     "name": "stdout",
     "output_type": "stream",
     "text": [
      "LogisticRegression()\n",
      "SVC()\n"
     ]
    }
   ],
   "source": [
    "import pickle\n",
    "\n",
    "# 피클 파일에서 객체 불러오기\n",
    "with open('basic_modeling.pickle', 'rb') as f:\n",
    "    logistic_model = pickle.load(f)\n",
    "    svm_model = pickle.load(f)\n",
    "    \n",
    "# 불러온 객체 출력\n",
    "print(logistic_model)\n",
    "print(svm_model)"
   ]
  },
  {
   "cell_type": "markdown",
   "id": "bcd5b5ce-078a-4af7-b0cc-e32dcfd9b79f",
   "metadata": {},
   "source": [
    "### 머신러닝 학습"
   ]
  },
  {
   "cell_type": "markdown",
   "id": "0de8969e-652e-420c-8448-8bfd3d15c017",
   "metadata": {},
   "source": [
    "#### 훈련용,시험용 데이터셋 설정"
   ]
  },
  {
   "cell_type": "code",
   "execution_count": 6,
   "id": "f66c7692-79dd-4281-ae37-c752de5bbc5f",
   "metadata": {},
   "outputs": [],
   "source": [
    "from sklearn.model_selection import train_test_split\n",
    "labeled_x = df_labeled['comment']\n",
    "labeled_y = df_labeled['sentiment']\n",
    "labeled_x_train,labeled_x_test = train_test_split(labeled_x,test_size=0.3,random_state=42)\n",
    "labeled_y_train,labeled_y_test = train_test_split(labeled_y,test_size=0.3,random_state=42)"
   ]
  },
  {
   "cell_type": "code",
   "execution_count": 7,
   "id": "5f83ad32-87d8-40f9-9eeb-6d41e0fe7e5d",
   "metadata": {},
   "outputs": [
    {
     "data": {
      "text/plain": [
       "75721    짧고 굵다 좋은 아이디어를 가졋음에도 플레이타임에 집착하느라 질질 끌어서 게임 자체...\n",
       "80184    분위기 깡패. 플레이 하는 사람 따라서 심리적으로 힘들수도 있을것 같습니다. 살인,...\n",
       "19864    단순하고 심플하지만 사람 짜증나게 하고 몇번씩 종료 시키게 만드는 뭐 같은 게임의욕...\n",
       "76699                                          오우 바니걸 먹는다!\n",
       "92991    3300원이 아깝지 않다. 방패로 싸우고 활로 싸우고 검으로 싸우고 총으로 싸우고아...\n",
       "                               ...                        \n",
       "42648                                               돈장난이 좀\n",
       "86306                         스토리 텔링이 너무 마음에 들었어요! 수작! 강추!\n",
       "45466    스토리 몰입도가 엄청나서 게임킬때마다 켠김왕을 하게 되어버린다. 이제 2회차째 '-...\n",
       "63724    길은 드럽게 복잡함 그래픽도 아웃라스트보다 떨어짐 갑툭튀도 없고 쫓기는 씬도 없고 ...\n",
       "34122    '이시대 최고의 망겜' 레벨이 8까지 있는데 운나쁘면 버그생겨서 못깸. 무료로 받아...\n",
       "Name: comment, Length: 30000, dtype: object"
      ]
     },
     "execution_count": 7,
     "metadata": {},
     "output_type": "execute_result"
    }
   ],
   "source": [
    "labeled_x_test"
   ]
  },
  {
   "cell_type": "code",
   "execution_count": 8,
   "id": "f9c6f422-17d3-4d0e-be0e-695f3a1d02ec",
   "metadata": {
    "scrolled": true
   },
   "outputs": [
    {
     "data": {
      "text/plain": [
       "array(['00', '00 12', '000', ...,\n",
       "       '９年も前のゲームにハードモードが追加されてた ホラーゲームの中で一番好きな作品だから嬉しい', 'ｚｌｑｈｊd아니시발',\n",
       "       'ｚｌｑｈｊd아니시발 키보드설정이'], dtype=object)"
      ]
     },
     "execution_count": 8,
     "metadata": {},
     "output_type": "execute_result"
    }
   ],
   "source": [
    "from sklearn.feature_extraction.text import TfidfVectorizer\n",
    "\n",
    "tfidfVectorizer = TfidfVectorizer(use_idf=True,ngram_range=(1,2))\n",
    "labeled_x_train = tfidfVectorizer.fit_transform(labeled_x_train)\n",
    "labeled_x_test = tfidfVectorizer.transform(labeled_x_test)\n",
    "dictionary_list = tfidfVectorizer.get_feature_names_out()\n",
    "dictionary_list"
   ]
  },
  {
   "cell_type": "markdown",
   "id": "e9156ce4-5df4-49aa-8e02-1c2a94a77ac4",
   "metadata": {},
   "source": [
    "#### 로지스틱 회귀분석"
   ]
  },
  {
   "cell_type": "code",
   "execution_count": 9,
   "id": "c641fae8-36df-4453-8717-b7e85d64feba",
   "metadata": {},
   "outputs": [
    {
     "name": "stderr",
     "output_type": "stream",
     "text": [
      "/usr/local/lib/python3.11/site-packages/sklearn/model_selection/_validation.py:547: FitFailedWarning: \n",
      "20 fits failed out of a total of 40.\n",
      "The score on these train-test partitions for these parameters will be set to nan.\n",
      "If these failures are not expected, you can try to debug them by setting error_score='raise'.\n",
      "\n",
      "Below are more details about the failures:\n",
      "--------------------------------------------------------------------------------\n",
      "20 fits failed with the following error:\n",
      "Traceback (most recent call last):\n",
      "  File \"/usr/local/lib/python3.11/site-packages/sklearn/model_selection/_validation.py\", line 895, in _fit_and_score\n",
      "    estimator.fit(X_train, y_train, **fit_params)\n",
      "  File \"/usr/local/lib/python3.11/site-packages/sklearn/base.py\", line 1474, in wrapper\n",
      "    return fit_method(estimator, *args, **kwargs)\n",
      "           ^^^^^^^^^^^^^^^^^^^^^^^^^^^^^^^^^^^^^^\n",
      "  File \"/usr/local/lib/python3.11/site-packages/sklearn/linear_model/_logistic.py\", line 1172, in fit\n",
      "    solver = _check_solver(self.solver, self.penalty, self.dual)\n",
      "             ^^^^^^^^^^^^^^^^^^^^^^^^^^^^^^^^^^^^^^^^^^^^^^^^^^^\n",
      "  File \"/usr/local/lib/python3.11/site-packages/sklearn/linear_model/_logistic.py\", line 67, in _check_solver\n",
      "    raise ValueError(\n",
      "ValueError: Solver lbfgs supports only 'l2' or None penalties, got l1 penalty.\n",
      "\n",
      "  warnings.warn(some_fits_failed_message, FitFailedWarning)\n",
      "/usr/local/lib/python3.11/site-packages/sklearn/model_selection/_search.py:1051: UserWarning: One or more of the test scores are non-finite: [       nan 0.73295714        nan 0.75682857        nan 0.76305714\n",
      "        nan 0.76      ]\n",
      "  warnings.warn(\n"
     ]
    },
    {
     "name": "stdout",
     "output_type": "stream",
     "text": [
      "최적 하이퍼파라미터: {'C': 10, 'penalty': 'l2'}\n"
     ]
    }
   ],
   "source": [
    "from sklearn.linear_model import LogisticRegression\n",
    "from sklearn.model_selection import GridSearchCV\n",
    "from sklearn.datasets import load_iris\n",
    "\n",
    "# 탐색할 하이퍼파라미터 설정\n",
    "param_grid = {'C': [0.1, 1, 10, 100], 'penalty': ['l1', 'l2']}\n",
    "\n",
    "# 그리드 서치를 사용하여 최적의 하이퍼파라미터 탐색\n",
    "grid_search = GridSearchCV(logistic_model, param_grid, cv=5)\n",
    "grid_search.fit(labeled_x_train, labeled_y_train)\n",
    "\n",
    "# 최적의 하이퍼파라미터 출력\n",
    "print(\"최적 하이퍼파라미터:\", grid_search.best_params_)\n",
    "\n",
    "# 최적의 모델로 예측\n",
    "logistic_best_model = grid_search.best_estimator_         "
   ]
  },
  {
   "cell_type": "code",
   "execution_count": 10,
   "id": "dd1b3bda-ce25-4121-a41b-a668a0db0ac0",
   "metadata": {},
   "outputs": [
    {
     "name": "stdout",
     "output_type": "stream",
     "text": [
      "              precision    recall  f1-score   support\n",
      "\n",
      "           0       0.78      0.75      0.76     15161\n",
      "           1       0.75      0.78      0.77     14839\n",
      "\n",
      "    accuracy                           0.77     30000\n",
      "   macro avg       0.77      0.77      0.77     30000\n",
      "weighted avg       0.77      0.77      0.77     30000\n",
      "\n"
     ]
    }
   ],
   "source": [
    "labeled_y_test_predict = logistic_best_model.predict(labeled_x_test)\n",
    "from sklearn.metrics import classification_report\n",
    "print(classification_report(labeled_y_test, labeled_y_test_predict))"
   ]
  },
  {
   "cell_type": "markdown",
   "id": "61c8a44f-a1d6-479c-872e-31841adceb20",
   "metadata": {},
   "source": [
    "#### SVM"
   ]
  },
  {
   "cell_type": "code",
   "execution_count": 11,
   "id": "47d3f4f8-4a09-4072-bd3c-c6f36572c055",
   "metadata": {},
   "outputs": [],
   "source": [
    "# from sklearn import svm\n",
    "# from sklearn.model_selection import GridSearchCV\n",
    "# from sklearn.datasets import load_iris\n",
    "\n",
    "# # 탐색할 하이퍼파라미터 설정\n",
    "# param_grid = {'C': [0.1, 1, 10, 100], 'gamma': [1, 0.1, 0.01, 0.001], 'kernel': ['rbf', 'linear']}\n",
    "\n",
    "# # 그리드 서치를 사용하여 최적의 하이퍼파라미터 탐색\n",
    "# grid_search = GridSearchCV(svm_model, param_grid, cv=5)\n",
    "# grid_search.fit(labeled_x_train, labeled_y_train)\n",
    "\n",
    "# # 최적의 하이퍼파라미터 출력\n",
    "# print(\"최적 하이퍼파라미터:\", grid_search.best_params_)\n",
    "\n",
    "# # 최적의 모델로 예측\n",
    "# svm_best_model = grid_search.best_estimator_    "
   ]
  },
  {
   "cell_type": "code",
   "execution_count": 12,
   "id": "2871e7c3-4bbc-44f9-8df0-09570ecf7274",
   "metadata": {},
   "outputs": [],
   "source": [
    "# labeled_y_test_predict = svm_best_model.predict(labeled_x_test)\n",
    "# from sklearn.metrics import classification_report\n",
    "# print(classification_report(labeled_y_test, labeled_y_test_predict))"
   ]
  },
  {
   "cell_type": "markdown",
   "id": "d98a77a5-e61c-42da-8b20-0464f406e9fe",
   "metadata": {},
   "source": [
    "#### Hyper parameter 적용 모델 결과"
   ]
  },
  {
   "cell_type": "markdown",
   "id": "7ba9041a-8cc2-4bd8-8921-11d2f601a290",
   "metadata": {},
   "source": []
  },
  {
   "cell_type": "markdown",
   "id": "70a6e3d4-9109-4bbb-87c9-3e96c9d6c5a5",
   "metadata": {},
   "source": [
    "#### 피클 내보내기"
   ]
  },
  {
   "cell_type": "code",
   "execution_count": 13,
   "id": "6d551d08-d509-4844-a35d-e7abdb0e059e",
   "metadata": {},
   "outputs": [],
   "source": [
    "import pickle\n",
    "\n",
    "# 내보낼 객체\n",
    "data = {'example': 'data'}\n",
    "\n",
    "# 객체를 피클 파일로 내보내기\n",
    "with open('hyper_modeling.pickle', 'wb') as f:\n",
    "    pickle.dump(logistic_best_model, f)"
   ]
  },
  {
   "cell_type": "markdown",
   "id": "cc5f2d24-d219-4646-8f58-3e194a147a83",
   "metadata": {},
   "source": [
    "#### 참조페이지"
   ]
  },
  {
   "cell_type": "markdown",
   "id": "d9ae5274-f62f-4c24-a47c-798e03827896",
   "metadata": {},
   "source": [
    "https://github.com/bab2min/corpus/tree/master/sentiment"
   ]
  }
 ],
 "metadata": {
  "kernelspec": {
   "display_name": "Python 3 (ipykernel)",
   "language": "python",
   "name": "python3"
  },
  "language_info": {
   "codemirror_mode": {
    "name": "ipython",
    "version": 3
   },
   "file_extension": ".py",
   "mimetype": "text/x-python",
   "name": "python",
   "nbconvert_exporter": "python",
   "pygments_lexer": "ipython3",
   "version": "3.11.9"
  }
 },
 "nbformat": 4,
 "nbformat_minor": 5
}
